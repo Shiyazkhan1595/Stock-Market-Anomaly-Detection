{
 "cells": [
  {
   "cell_type": "code",
   "execution_count": 147,
   "id": "7b02709f-7d3a-444a-9c92-0f244fafe3c1",
   "metadata": {},
   "outputs": [],
   "source": [
    "import pandas as pd\n",
    "import numpy as np\n",
    "import matplotlib.pyplot as plt"
   ]
  },
  {
   "cell_type": "code",
   "execution_count": 148,
   "id": "bf56c5ab-1800-4747-919d-bfa75db9b4c9",
   "metadata": {},
   "outputs": [],
   "source": [
    "df_stock= pd.read_csv('StockData.csv',dayfirst = True,encoding='latin1')"
   ]
  },
  {
   "cell_type": "code",
   "execution_count": 149,
   "id": "92d76356-7d30-46ec-82db-7f25bf452571",
   "metadata": {},
   "outputs": [
    {
     "data": {
      "text/html": [
       "<div>\n",
       "<style scoped>\n",
       "    .dataframe tbody tr th:only-of-type {\n",
       "        vertical-align: middle;\n",
       "    }\n",
       "\n",
       "    .dataframe tbody tr th {\n",
       "        vertical-align: top;\n",
       "    }\n",
       "\n",
       "    .dataframe thead th {\n",
       "        text-align: right;\n",
       "    }\n",
       "</style>\n",
       "<table border=\"1\" class=\"dataframe\">\n",
       "  <thead>\n",
       "    <tr style=\"text-align: right;\">\n",
       "      <th></th>\n",
       "      <th>Unnamed: 0</th>\n",
       "      <th>Date</th>\n",
       "      <th>Ticker</th>\n",
       "      <th>Adj Close</th>\n",
       "      <th>Close</th>\n",
       "      <th>High</th>\n",
       "      <th>Low</th>\n",
       "      <th>Open</th>\n",
       "      <th>Volume</th>\n",
       "    </tr>\n",
       "  </thead>\n",
       "  <tbody>\n",
       "    <tr>\n",
       "      <th>0</th>\n",
       "      <td>0</td>\n",
       "      <td>2023-04-06</td>\n",
       "      <td>AAPL</td>\n",
       "      <td>163.785767</td>\n",
       "      <td>164.660004</td>\n",
       "      <td>164.960007</td>\n",
       "      <td>162.000000</td>\n",
       "      <td>162.429993</td>\n",
       "      <td>45390100.0</td>\n",
       "    </tr>\n",
       "    <tr>\n",
       "      <th>1</th>\n",
       "      <td>1</td>\n",
       "      <td>2023-04-06</td>\n",
       "      <td>GOOG</td>\n",
       "      <td>108.900002</td>\n",
       "      <td>108.900002</td>\n",
       "      <td>109.629997</td>\n",
       "      <td>104.815002</td>\n",
       "      <td>105.769997</td>\n",
       "      <td>34684200.0</td>\n",
       "    </tr>\n",
       "    <tr>\n",
       "      <th>2</th>\n",
       "      <td>2</td>\n",
       "      <td>2023-04-06</td>\n",
       "      <td>MSFT</td>\n",
       "      <td>289.226227</td>\n",
       "      <td>291.600006</td>\n",
       "      <td>292.079987</td>\n",
       "      <td>282.029999</td>\n",
       "      <td>283.209991</td>\n",
       "      <td>29770300.0</td>\n",
       "    </tr>\n",
       "    <tr>\n",
       "      <th>3</th>\n",
       "      <td>3</td>\n",
       "      <td>2023-04-06</td>\n",
       "      <td>NFLX</td>\n",
       "      <td>339.329987</td>\n",
       "      <td>339.329987</td>\n",
       "      <td>340.480011</td>\n",
       "      <td>332.630005</td>\n",
       "      <td>339.339996</td>\n",
       "      <td>4660500.0</td>\n",
       "    </tr>\n",
       "    <tr>\n",
       "      <th>4</th>\n",
       "      <td>4</td>\n",
       "      <td>2023-04-06</td>\n",
       "      <td>TSLA</td>\n",
       "      <td>185.059998</td>\n",
       "      <td>185.059998</td>\n",
       "      <td>186.389999</td>\n",
       "      <td>179.740005</td>\n",
       "      <td>183.080002</td>\n",
       "      <td>123857900.0</td>\n",
       "    </tr>\n",
       "    <tr>\n",
       "      <th>...</th>\n",
       "      <td>...</td>\n",
       "      <td>...</td>\n",
       "      <td>...</td>\n",
       "      <td>...</td>\n",
       "      <td>...</td>\n",
       "      <td>...</td>\n",
       "      <td>...</td>\n",
       "      <td>...</td>\n",
       "      <td>...</td>\n",
       "    </tr>\n",
       "    <tr>\n",
       "      <th>1245</th>\n",
       "      <td>1245</td>\n",
       "      <td>2024-04-04</td>\n",
       "      <td>AAPL</td>\n",
       "      <td>168.820007</td>\n",
       "      <td>168.820007</td>\n",
       "      <td>171.919998</td>\n",
       "      <td>168.820007</td>\n",
       "      <td>170.289993</td>\n",
       "      <td>53582300.0</td>\n",
       "    </tr>\n",
       "    <tr>\n",
       "      <th>1246</th>\n",
       "      <td>1246</td>\n",
       "      <td>2024-04-04</td>\n",
       "      <td>GOOG</td>\n",
       "      <td>151.940002</td>\n",
       "      <td>151.940002</td>\n",
       "      <td>156.179993</td>\n",
       "      <td>151.880005</td>\n",
       "      <td>155.080002</td>\n",
       "      <td>24114800.0</td>\n",
       "    </tr>\n",
       "    <tr>\n",
       "      <th>1247</th>\n",
       "      <td>1247</td>\n",
       "      <td>2024-04-04</td>\n",
       "      <td>MSFT</td>\n",
       "      <td>417.880005</td>\n",
       "      <td>417.880005</td>\n",
       "      <td>428.670013</td>\n",
       "      <td>417.570007</td>\n",
       "      <td>424.989990</td>\n",
       "      <td>19330000.0</td>\n",
       "    </tr>\n",
       "    <tr>\n",
       "      <th>1248</th>\n",
       "      <td>1248</td>\n",
       "      <td>2024-04-04</td>\n",
       "      <td>NFLX</td>\n",
       "      <td>617.140015</td>\n",
       "      <td>617.140015</td>\n",
       "      <td>638.000000</td>\n",
       "      <td>616.580017</td>\n",
       "      <td>633.210022</td>\n",
       "      <td>3062100.0</td>\n",
       "    </tr>\n",
       "    <tr>\n",
       "      <th>1249</th>\n",
       "      <td>1249</td>\n",
       "      <td>2024-04-04</td>\n",
       "      <td>TSLA</td>\n",
       "      <td>171.110001</td>\n",
       "      <td>171.110001</td>\n",
       "      <td>177.190002</td>\n",
       "      <td>168.009995</td>\n",
       "      <td>170.070007</td>\n",
       "      <td>122832800.0</td>\n",
       "    </tr>\n",
       "  </tbody>\n",
       "</table>\n",
       "<p>1250 rows × 9 columns</p>\n",
       "</div>"
      ],
      "text/plain": [
       "      Unnamed: 0        Date Ticker   Adj Close       Close        High  \\\n",
       "0              0  2023-04-06   AAPL  163.785767  164.660004  164.960007   \n",
       "1              1  2023-04-06   GOOG  108.900002  108.900002  109.629997   \n",
       "2              2  2023-04-06   MSFT  289.226227  291.600006  292.079987   \n",
       "3              3  2023-04-06   NFLX  339.329987  339.329987  340.480011   \n",
       "4              4  2023-04-06   TSLA  185.059998  185.059998  186.389999   \n",
       "...          ...         ...    ...         ...         ...         ...   \n",
       "1245        1245  2024-04-04   AAPL  168.820007  168.820007  171.919998   \n",
       "1246        1246  2024-04-04   GOOG  151.940002  151.940002  156.179993   \n",
       "1247        1247  2024-04-04   MSFT  417.880005  417.880005  428.670013   \n",
       "1248        1248  2024-04-04   NFLX  617.140015  617.140015  638.000000   \n",
       "1249        1249  2024-04-04   TSLA  171.110001  171.110001  177.190002   \n",
       "\n",
       "             Low        Open       Volume  \n",
       "0     162.000000  162.429993   45390100.0  \n",
       "1     104.815002  105.769997   34684200.0  \n",
       "2     282.029999  283.209991   29770300.0  \n",
       "3     332.630005  339.339996    4660500.0  \n",
       "4     179.740005  183.080002  123857900.0  \n",
       "...          ...         ...          ...  \n",
       "1245  168.820007  170.289993   53582300.0  \n",
       "1246  151.880005  155.080002   24114800.0  \n",
       "1247  417.570007  424.989990   19330000.0  \n",
       "1248  616.580017  633.210022    3062100.0  \n",
       "1249  168.009995  170.070007  122832800.0  \n",
       "\n",
       "[1250 rows x 9 columns]"
      ]
     },
     "execution_count": 149,
     "metadata": {},
     "output_type": "execute_result"
    }
   ],
   "source": [
    "df_stock"
   ]
  },
  {
   "cell_type": "code",
   "execution_count": 150,
   "id": "c1df5d6b-efea-486f-84cb-da12b49a6fb1",
   "metadata": {},
   "outputs": [],
   "source": [
    "df_stock.columns= df_stock.columns.str.strip()"
   ]
  },
  {
   "cell_type": "code",
   "execution_count": 151,
   "id": "27caa0ca-f76a-4590-85cd-d4ac37be1b00",
   "metadata": {},
   "outputs": [],
   "source": [
    "# Drops all columns whose name matches the regex '^Unnamed'\n",
    "df_stock = df_stock.drop(df_stock.filter(regex='^Unnamed').columns, axis=1)"
   ]
  },
  {
   "cell_type": "code",
   "execution_count": 152,
   "id": "ebcfe126-0ba1-46d8-916a-820ab276f6c1",
   "metadata": {},
   "outputs": [
    {
     "data": {
      "text/html": [
       "<div>\n",
       "<style scoped>\n",
       "    .dataframe tbody tr th:only-of-type {\n",
       "        vertical-align: middle;\n",
       "    }\n",
       "\n",
       "    .dataframe tbody tr th {\n",
       "        vertical-align: top;\n",
       "    }\n",
       "\n",
       "    .dataframe thead th {\n",
       "        text-align: right;\n",
       "    }\n",
       "</style>\n",
       "<table border=\"1\" class=\"dataframe\">\n",
       "  <thead>\n",
       "    <tr style=\"text-align: right;\">\n",
       "      <th></th>\n",
       "      <th>Date</th>\n",
       "      <th>Ticker</th>\n",
       "      <th>Adj Close</th>\n",
       "      <th>Close</th>\n",
       "      <th>High</th>\n",
       "      <th>Low</th>\n",
       "      <th>Open</th>\n",
       "      <th>Volume</th>\n",
       "    </tr>\n",
       "  </thead>\n",
       "  <tbody>\n",
       "    <tr>\n",
       "      <th>0</th>\n",
       "      <td>2023-04-06</td>\n",
       "      <td>AAPL</td>\n",
       "      <td>163.785767</td>\n",
       "      <td>164.660004</td>\n",
       "      <td>164.960007</td>\n",
       "      <td>162.000000</td>\n",
       "      <td>162.429993</td>\n",
       "      <td>45390100.0</td>\n",
       "    </tr>\n",
       "    <tr>\n",
       "      <th>1</th>\n",
       "      <td>2023-04-06</td>\n",
       "      <td>GOOG</td>\n",
       "      <td>108.900002</td>\n",
       "      <td>108.900002</td>\n",
       "      <td>109.629997</td>\n",
       "      <td>104.815002</td>\n",
       "      <td>105.769997</td>\n",
       "      <td>34684200.0</td>\n",
       "    </tr>\n",
       "    <tr>\n",
       "      <th>2</th>\n",
       "      <td>2023-04-06</td>\n",
       "      <td>MSFT</td>\n",
       "      <td>289.226227</td>\n",
       "      <td>291.600006</td>\n",
       "      <td>292.079987</td>\n",
       "      <td>282.029999</td>\n",
       "      <td>283.209991</td>\n",
       "      <td>29770300.0</td>\n",
       "    </tr>\n",
       "    <tr>\n",
       "      <th>3</th>\n",
       "      <td>2023-04-06</td>\n",
       "      <td>NFLX</td>\n",
       "      <td>339.329987</td>\n",
       "      <td>339.329987</td>\n",
       "      <td>340.480011</td>\n",
       "      <td>332.630005</td>\n",
       "      <td>339.339996</td>\n",
       "      <td>4660500.0</td>\n",
       "    </tr>\n",
       "    <tr>\n",
       "      <th>4</th>\n",
       "      <td>2023-04-06</td>\n",
       "      <td>TSLA</td>\n",
       "      <td>185.059998</td>\n",
       "      <td>185.059998</td>\n",
       "      <td>186.389999</td>\n",
       "      <td>179.740005</td>\n",
       "      <td>183.080002</td>\n",
       "      <td>123857900.0</td>\n",
       "    </tr>\n",
       "  </tbody>\n",
       "</table>\n",
       "</div>"
      ],
      "text/plain": [
       "         Date Ticker   Adj Close       Close        High         Low  \\\n",
       "0  2023-04-06   AAPL  163.785767  164.660004  164.960007  162.000000   \n",
       "1  2023-04-06   GOOG  108.900002  108.900002  109.629997  104.815002   \n",
       "2  2023-04-06   MSFT  289.226227  291.600006  292.079987  282.029999   \n",
       "3  2023-04-06   NFLX  339.329987  339.329987  340.480011  332.630005   \n",
       "4  2023-04-06   TSLA  185.059998  185.059998  186.389999  179.740005   \n",
       "\n",
       "         Open       Volume  \n",
       "0  162.429993   45390100.0  \n",
       "1  105.769997   34684200.0  \n",
       "2  283.209991   29770300.0  \n",
       "3  339.339996    4660500.0  \n",
       "4  183.080002  123857900.0  "
      ]
     },
     "execution_count": 152,
     "metadata": {},
     "output_type": "execute_result"
    }
   ],
   "source": [
    "df_stock.head(5)"
   ]
  },
  {
   "cell_type": "code",
   "execution_count": 153,
   "id": "6d267c40-465d-4f42-970d-b683b9927935",
   "metadata": {},
   "outputs": [
    {
     "data": {
      "text/plain": [
       "Date         0\n",
       "Ticker       0\n",
       "Adj Close    0\n",
       "Close        0\n",
       "High         0\n",
       "Low          0\n",
       "Open         0\n",
       "Volume       0\n",
       "dtype: int64"
      ]
     },
     "execution_count": 153,
     "metadata": {},
     "output_type": "execute_result"
    }
   ],
   "source": [
    "df_stock.isna().sum()"
   ]
  },
  {
   "cell_type": "code",
   "execution_count": 154,
   "id": "0db43882-a709-4b69-b216-f15cfdc433ff",
   "metadata": {},
   "outputs": [],
   "source": [
    "df_stock['Date'] = pd.to_datetime(df_stock['Date'],errors =\"coerce\")"
   ]
  },
  {
   "cell_type": "code",
   "execution_count": 155,
   "id": "76da48e5-5546-4b96-b9be-b925f905fa4a",
   "metadata": {},
   "outputs": [
    {
     "data": {
      "text/html": [
       "<div>\n",
       "<style scoped>\n",
       "    .dataframe tbody tr th:only-of-type {\n",
       "        vertical-align: middle;\n",
       "    }\n",
       "\n",
       "    .dataframe tbody tr th {\n",
       "        vertical-align: top;\n",
       "    }\n",
       "\n",
       "    .dataframe thead th {\n",
       "        text-align: right;\n",
       "    }\n",
       "</style>\n",
       "<table border=\"1\" class=\"dataframe\">\n",
       "  <thead>\n",
       "    <tr style=\"text-align: right;\">\n",
       "      <th></th>\n",
       "      <th>Date</th>\n",
       "      <th>Ticker</th>\n",
       "      <th>Adj Close</th>\n",
       "      <th>Close</th>\n",
       "      <th>High</th>\n",
       "      <th>Low</th>\n",
       "      <th>Open</th>\n",
       "      <th>Volume</th>\n",
       "    </tr>\n",
       "  </thead>\n",
       "  <tbody>\n",
       "    <tr>\n",
       "      <th>0</th>\n",
       "      <td>2023-04-06</td>\n",
       "      <td>AAPL</td>\n",
       "      <td>163.785767</td>\n",
       "      <td>164.660004</td>\n",
       "      <td>164.960007</td>\n",
       "      <td>162.000000</td>\n",
       "      <td>162.429993</td>\n",
       "      <td>45390100.0</td>\n",
       "    </tr>\n",
       "    <tr>\n",
       "      <th>1</th>\n",
       "      <td>2023-04-06</td>\n",
       "      <td>GOOG</td>\n",
       "      <td>108.900002</td>\n",
       "      <td>108.900002</td>\n",
       "      <td>109.629997</td>\n",
       "      <td>104.815002</td>\n",
       "      <td>105.769997</td>\n",
       "      <td>34684200.0</td>\n",
       "    </tr>\n",
       "    <tr>\n",
       "      <th>2</th>\n",
       "      <td>2023-04-06</td>\n",
       "      <td>MSFT</td>\n",
       "      <td>289.226227</td>\n",
       "      <td>291.600006</td>\n",
       "      <td>292.079987</td>\n",
       "      <td>282.029999</td>\n",
       "      <td>283.209991</td>\n",
       "      <td>29770300.0</td>\n",
       "    </tr>\n",
       "    <tr>\n",
       "      <th>3</th>\n",
       "      <td>2023-04-06</td>\n",
       "      <td>NFLX</td>\n",
       "      <td>339.329987</td>\n",
       "      <td>339.329987</td>\n",
       "      <td>340.480011</td>\n",
       "      <td>332.630005</td>\n",
       "      <td>339.339996</td>\n",
       "      <td>4660500.0</td>\n",
       "    </tr>\n",
       "    <tr>\n",
       "      <th>4</th>\n",
       "      <td>2023-04-06</td>\n",
       "      <td>TSLA</td>\n",
       "      <td>185.059998</td>\n",
       "      <td>185.059998</td>\n",
       "      <td>186.389999</td>\n",
       "      <td>179.740005</td>\n",
       "      <td>183.080002</td>\n",
       "      <td>123857900.0</td>\n",
       "    </tr>\n",
       "    <tr>\n",
       "      <th>...</th>\n",
       "      <td>...</td>\n",
       "      <td>...</td>\n",
       "      <td>...</td>\n",
       "      <td>...</td>\n",
       "      <td>...</td>\n",
       "      <td>...</td>\n",
       "      <td>...</td>\n",
       "      <td>...</td>\n",
       "    </tr>\n",
       "    <tr>\n",
       "      <th>1245</th>\n",
       "      <td>2024-04-04</td>\n",
       "      <td>AAPL</td>\n",
       "      <td>168.820007</td>\n",
       "      <td>168.820007</td>\n",
       "      <td>171.919998</td>\n",
       "      <td>168.820007</td>\n",
       "      <td>170.289993</td>\n",
       "      <td>53582300.0</td>\n",
       "    </tr>\n",
       "    <tr>\n",
       "      <th>1246</th>\n",
       "      <td>2024-04-04</td>\n",
       "      <td>GOOG</td>\n",
       "      <td>151.940002</td>\n",
       "      <td>151.940002</td>\n",
       "      <td>156.179993</td>\n",
       "      <td>151.880005</td>\n",
       "      <td>155.080002</td>\n",
       "      <td>24114800.0</td>\n",
       "    </tr>\n",
       "    <tr>\n",
       "      <th>1247</th>\n",
       "      <td>2024-04-04</td>\n",
       "      <td>MSFT</td>\n",
       "      <td>417.880005</td>\n",
       "      <td>417.880005</td>\n",
       "      <td>428.670013</td>\n",
       "      <td>417.570007</td>\n",
       "      <td>424.989990</td>\n",
       "      <td>19330000.0</td>\n",
       "    </tr>\n",
       "    <tr>\n",
       "      <th>1248</th>\n",
       "      <td>2024-04-04</td>\n",
       "      <td>NFLX</td>\n",
       "      <td>617.140015</td>\n",
       "      <td>617.140015</td>\n",
       "      <td>638.000000</td>\n",
       "      <td>616.580017</td>\n",
       "      <td>633.210022</td>\n",
       "      <td>3062100.0</td>\n",
       "    </tr>\n",
       "    <tr>\n",
       "      <th>1249</th>\n",
       "      <td>2024-04-04</td>\n",
       "      <td>TSLA</td>\n",
       "      <td>171.110001</td>\n",
       "      <td>171.110001</td>\n",
       "      <td>177.190002</td>\n",
       "      <td>168.009995</td>\n",
       "      <td>170.070007</td>\n",
       "      <td>122832800.0</td>\n",
       "    </tr>\n",
       "  </tbody>\n",
       "</table>\n",
       "<p>1250 rows × 8 columns</p>\n",
       "</div>"
      ],
      "text/plain": [
       "           Date Ticker   Adj Close       Close        High         Low  \\\n",
       "0    2023-04-06   AAPL  163.785767  164.660004  164.960007  162.000000   \n",
       "1    2023-04-06   GOOG  108.900002  108.900002  109.629997  104.815002   \n",
       "2    2023-04-06   MSFT  289.226227  291.600006  292.079987  282.029999   \n",
       "3    2023-04-06   NFLX  339.329987  339.329987  340.480011  332.630005   \n",
       "4    2023-04-06   TSLA  185.059998  185.059998  186.389999  179.740005   \n",
       "...         ...    ...         ...         ...         ...         ...   \n",
       "1245 2024-04-04   AAPL  168.820007  168.820007  171.919998  168.820007   \n",
       "1246 2024-04-04   GOOG  151.940002  151.940002  156.179993  151.880005   \n",
       "1247 2024-04-04   MSFT  417.880005  417.880005  428.670013  417.570007   \n",
       "1248 2024-04-04   NFLX  617.140015  617.140015  638.000000  616.580017   \n",
       "1249 2024-04-04   TSLA  171.110001  171.110001  177.190002  168.009995   \n",
       "\n",
       "            Open       Volume  \n",
       "0     162.429993   45390100.0  \n",
       "1     105.769997   34684200.0  \n",
       "2     283.209991   29770300.0  \n",
       "3     339.339996    4660500.0  \n",
       "4     183.080002  123857900.0  \n",
       "...          ...          ...  \n",
       "1245  170.289993   53582300.0  \n",
       "1246  155.080002   24114800.0  \n",
       "1247  424.989990   19330000.0  \n",
       "1248  633.210022    3062100.0  \n",
       "1249  170.070007  122832800.0  \n",
       "\n",
       "[1250 rows x 8 columns]"
      ]
     },
     "execution_count": 155,
     "metadata": {},
     "output_type": "execute_result"
    }
   ],
   "source": [
    "df_stock.dropna(subset= 'Date')"
   ]
  },
  {
   "cell_type": "code",
   "execution_count": 156,
   "id": "359aef95-195f-49d1-a5f6-0cd9cafac2de",
   "metadata": {},
   "outputs": [
    {
     "data": {
      "text/plain": [
       "Date         datetime64[ns]\n",
       "Ticker               object\n",
       "Adj Close           float64\n",
       "Close               float64\n",
       "High                float64\n",
       "Low                 float64\n",
       "Open                float64\n",
       "Volume              float64\n",
       "dtype: object"
      ]
     },
     "execution_count": 156,
     "metadata": {},
     "output_type": "execute_result"
    }
   ],
   "source": [
    "df_stock.dtypes"
   ]
  },
  {
   "cell_type": "code",
   "execution_count": 157,
   "id": "1ce06047-12b4-4ed6-bc68-84387e9cb2fb",
   "metadata": {},
   "outputs": [],
   "source": [
    "price_cols = [\"Open\", \"High\", \"Low\", \"Close\", \"Adj Close\", \"Volume\"]\n",
    "df_stock= df_stock.dropna(subset = price_cols)"
   ]
  },
  {
   "cell_type": "code",
   "execution_count": 158,
   "id": "268a6366-3d7d-4606-9708-fe79f02085a3",
   "metadata": {},
   "outputs": [
    {
     "data": {
      "text/plain": [
       "Open         0\n",
       "High         0\n",
       "Low          0\n",
       "Close        0\n",
       "Adj Close    0\n",
       "Volume       0\n",
       "dtype: int64"
      ]
     },
     "execution_count": 158,
     "metadata": {},
     "output_type": "execute_result"
    }
   ],
   "source": [
    "df_stock[price_cols].isna().sum()"
   ]
  },
  {
   "cell_type": "code",
   "execution_count": 159,
   "id": "a767475e-0b6c-40e8-a484-419c426f7ffc",
   "metadata": {},
   "outputs": [
    {
     "data": {
      "text/plain": [
       "array(['AAPL', 'GOOG', 'MSFT', 'NFLX', 'TSLA'], dtype=object)"
      ]
     },
     "execution_count": 159,
     "metadata": {},
     "output_type": "execute_result"
    }
   ],
   "source": [
    "df_stock = df_stock[df_stock[\"Ticker\"].astype(str).str.len() > 0]\n",
    "df_stock[\"Ticker\"].unique()"
   ]
  },
  {
   "cell_type": "code",
   "execution_count": 160,
   "id": "f2181e37-0208-41b0-a478-c667df9147b6",
   "metadata": {},
   "outputs": [
    {
     "data": {
      "text/html": [
       "<div>\n",
       "<style scoped>\n",
       "    .dataframe tbody tr th:only-of-type {\n",
       "        vertical-align: middle;\n",
       "    }\n",
       "\n",
       "    .dataframe tbody tr th {\n",
       "        vertical-align: top;\n",
       "    }\n",
       "\n",
       "    .dataframe thead th {\n",
       "        text-align: right;\n",
       "    }\n",
       "</style>\n",
       "<table border=\"1\" class=\"dataframe\">\n",
       "  <thead>\n",
       "    <tr style=\"text-align: right;\">\n",
       "      <th></th>\n",
       "      <th>Date</th>\n",
       "      <th>Ticker</th>\n",
       "      <th>Adj Close</th>\n",
       "      <th>Close</th>\n",
       "      <th>High</th>\n",
       "      <th>Low</th>\n",
       "      <th>Open</th>\n",
       "      <th>Volume</th>\n",
       "    </tr>\n",
       "  </thead>\n",
       "  <tbody>\n",
       "    <tr>\n",
       "      <th>0</th>\n",
       "      <td>2023-04-06</td>\n",
       "      <td>AAPL</td>\n",
       "      <td>163.785767</td>\n",
       "      <td>164.660004</td>\n",
       "      <td>164.960007</td>\n",
       "      <td>162.000000</td>\n",
       "      <td>162.429993</td>\n",
       "      <td>45390100.0</td>\n",
       "    </tr>\n",
       "    <tr>\n",
       "      <th>1</th>\n",
       "      <td>2023-04-10</td>\n",
       "      <td>AAPL</td>\n",
       "      <td>161.169724</td>\n",
       "      <td>162.029999</td>\n",
       "      <td>162.029999</td>\n",
       "      <td>160.080002</td>\n",
       "      <td>161.419998</td>\n",
       "      <td>47716900.0</td>\n",
       "    </tr>\n",
       "    <tr>\n",
       "      <th>2</th>\n",
       "      <td>2023-04-11</td>\n",
       "      <td>AAPL</td>\n",
       "      <td>159.946259</td>\n",
       "      <td>160.800003</td>\n",
       "      <td>162.360001</td>\n",
       "      <td>160.509995</td>\n",
       "      <td>162.350006</td>\n",
       "      <td>47644200.0</td>\n",
       "    </tr>\n",
       "    <tr>\n",
       "      <th>3</th>\n",
       "      <td>2023-04-12</td>\n",
       "      <td>AAPL</td>\n",
       "      <td>159.249985</td>\n",
       "      <td>160.100006</td>\n",
       "      <td>162.059998</td>\n",
       "      <td>159.779999</td>\n",
       "      <td>161.220001</td>\n",
       "      <td>50133100.0</td>\n",
       "    </tr>\n",
       "    <tr>\n",
       "      <th>4</th>\n",
       "      <td>2023-04-13</td>\n",
       "      <td>AAPL</td>\n",
       "      <td>164.680969</td>\n",
       "      <td>165.559998</td>\n",
       "      <td>165.800003</td>\n",
       "      <td>161.419998</td>\n",
       "      <td>161.630005</td>\n",
       "      <td>68445600.0</td>\n",
       "    </tr>\n",
       "  </tbody>\n",
       "</table>\n",
       "</div>"
      ],
      "text/plain": [
       "        Date Ticker   Adj Close       Close        High         Low  \\\n",
       "0 2023-04-06   AAPL  163.785767  164.660004  164.960007  162.000000   \n",
       "1 2023-04-10   AAPL  161.169724  162.029999  162.029999  160.080002   \n",
       "2 2023-04-11   AAPL  159.946259  160.800003  162.360001  160.509995   \n",
       "3 2023-04-12   AAPL  159.249985  160.100006  162.059998  159.779999   \n",
       "4 2023-04-13   AAPL  164.680969  165.559998  165.800003  161.419998   \n",
       "\n",
       "         Open      Volume  \n",
       "0  162.429993  45390100.0  \n",
       "1  161.419998  47716900.0  \n",
       "2  162.350006  47644200.0  \n",
       "3  161.220001  50133100.0  \n",
       "4  161.630005  68445600.0  "
      ]
     },
     "execution_count": 160,
     "metadata": {},
     "output_type": "execute_result"
    }
   ],
   "source": [
    "# Order the data by Ticker, then Date\n",
    "df_stock = df_stock.sort_values(by=[\"Ticker\", \"Date\"]).reset_index(drop=True)\n",
    "\n",
    "# Final preview\n",
    "df_stock.head()"
   ]
  },
  {
   "cell_type": "code",
   "execution_count": 161,
   "id": "bb4462f1-96ad-46b2-b564-56a5996e7d9e",
   "metadata": {},
   "outputs": [],
   "source": [
    "!pip install yfinance --quiet\n",
    "\n",
    "import yfinance as yf\n",
    "from datetime import datetime\n",
    "import time"
   ]
  },
  {
   "cell_type": "code",
   "execution_count": 162,
   "id": "1b8b8b7c-3074-42db-b9f0-42f0ef4a2ada",
   "metadata": {},
   "outputs": [
    {
     "data": {
      "text/plain": [
       "15"
      ]
     },
     "execution_count": 162,
     "metadata": {},
     "output_type": "execute_result"
    }
   ],
   "source": [
    "original = [\"AAPL\",\"GOOG\",\"MSFT\",\"NFLX\",\"TSLA\"]  \n",
    "extra = [ \"AMC\", \"GME\", \"COIN\", \"RIOT\", \"DKNG\",  \"UBER\", \"PLTR\", \"CLOV\", \"RBLX\", \"FSLY\", \"SNAP\",\"TLRY\",\"BYND\",\"NKLA\", \"BB\",   \"FUBO\", \"CCL\",   \"UAL\",\n",
    "    \"DAL\",  \n",
    "    \"DIS\"]\n",
    "tickers = [\n",
    "    \"AAPL\",\"GOOG\",\"MSFT\",\"NFLX\",\"TSLA\",\n",
    "    \"AMC\",\"GME\",\"COIN\",\"RIOT\",\"DKNG\",\n",
    "    \"UBER\",\"PLTR\",\"CLOV\",\"RBLX\",\"FSLY\"\n",
    "]\n",
    "len(tickers)  "
   ]
  },
  {
   "cell_type": "code",
   "execution_count": 163,
   "id": "4f172f39-4b3f-43a7-856d-0b8d7af3a320",
   "metadata": {},
   "outputs": [
    {
     "name": "stdout",
     "output_type": "stream",
     "text": [
      "Requirement already satisfied: pandas-datareader in /opt/anaconda3/lib/python3.12/site-packages (0.10.0)\n",
      "Requirement already satisfied: lxml in /opt/anaconda3/lib/python3.12/site-packages (from pandas-datareader) (5.2.1)\n",
      "Requirement already satisfied: pandas>=0.23 in /opt/anaconda3/lib/python3.12/site-packages (from pandas-datareader) (2.2.2)\n",
      "Requirement already satisfied: requests>=2.19.0 in /opt/anaconda3/lib/python3.12/site-packages (from pandas-datareader) (2.32.2)\n",
      "Requirement already satisfied: numpy>=1.26.0 in /opt/anaconda3/lib/python3.12/site-packages (from pandas>=0.23->pandas-datareader) (1.26.4)\n",
      "Requirement already satisfied: python-dateutil>=2.8.2 in /opt/anaconda3/lib/python3.12/site-packages (from pandas>=0.23->pandas-datareader) (2.9.0.post0)\n",
      "Requirement already satisfied: pytz>=2020.1 in /opt/anaconda3/lib/python3.12/site-packages (from pandas>=0.23->pandas-datareader) (2024.1)\n",
      "Requirement already satisfied: tzdata>=2022.7 in /opt/anaconda3/lib/python3.12/site-packages (from pandas>=0.23->pandas-datareader) (2023.3)\n",
      "Requirement already satisfied: charset-normalizer<4,>=2 in /opt/anaconda3/lib/python3.12/site-packages (from requests>=2.19.0->pandas-datareader) (2.0.4)\n",
      "Requirement already satisfied: idna<4,>=2.5 in /opt/anaconda3/lib/python3.12/site-packages (from requests>=2.19.0->pandas-datareader) (3.7)\n",
      "Requirement already satisfied: urllib3<3,>=1.21.1 in /opt/anaconda3/lib/python3.12/site-packages (from requests>=2.19.0->pandas-datareader) (2.2.2)\n",
      "Requirement already satisfied: certifi>=2017.4.17 in /opt/anaconda3/lib/python3.12/site-packages (from requests>=2.19.0->pandas-datareader) (2025.4.26)\n",
      "Requirement already satisfied: six>=1.5 in /opt/anaconda3/lib/python3.12/site-packages (from python-dateutil>=2.8.2->pandas>=0.23->pandas-datareader) (1.16.0)\n"
     ]
    }
   ],
   "source": [
    "!pip install pandas-datareader"
   ]
  },
  {
   "cell_type": "markdown",
   "id": "180de2ff-5545-4e79-bbfc-94c526c8d4a3",
   "metadata": {},
   "source": [
    "### Downloading historical stock data with pandas_datareader"
   ]
  },
  {
   "cell_type": "code",
   "execution_count": 180,
   "id": "bcde2f06-d0f7-4fb0-ab58-1c415a19cee3",
   "metadata": {},
   "outputs": [
    {
     "name": "stdout",
     "output_type": "stream",
     "text": [
      "→ Attempting AAPL…\n",
      "   ✅ Fetched AAPL, 587 rows\n",
      "→ Attempting GOOG…\n",
      "   ✅ Fetched GOOG, 587 rows\n",
      "→ Attempting MSFT…\n",
      "   ✅ Fetched MSFT, 587 rows\n",
      "→ Attempting NFLX…\n",
      "   ✅ Fetched NFLX, 587 rows\n",
      "→ Attempting TSLA…\n",
      "   ✅ Fetched TSLA, 587 rows\n",
      "→ Attempting AMC…\n",
      "   ✅ Fetched AMC, 587 rows\n",
      "→ Attempting GME…\n",
      "   ✅ Fetched GME, 587 rows\n",
      "→ Attempting COIN…\n",
      "   ✅ Fetched COIN, 587 rows\n",
      "→ Attempting RIOT…\n",
      "   ✅ Fetched RIOT, 587 rows\n",
      "→ Attempting DKNG…\n",
      "   ✅ Fetched DKNG, 587 rows\n",
      "→ Attempting UBER…\n",
      "   ✅ Fetched UBER, 587 rows\n",
      "→ Attempting PLTR…\n",
      "   ✅ Fetched PLTR, 587 rows\n",
      "→ Attempting CLOV…\n",
      "   ✅ Fetched CLOV, 587 rows\n",
      "→ Attempting RBLX…\n",
      "   ✅ Fetched RBLX, 587 rows\n",
      "→ Attempting FSLY…\n",
      "   ✅ Fetched FSLY, 587 rows\n",
      "→ Attempting SNAP…\n",
      "   ✅ Fetched SNAP, 587 rows\n",
      "→ Attempting TLRY…\n",
      "   ✅ Fetched TLRY, 587 rows\n",
      "→ Attempting BYND…\n",
      "   ✅ Fetched BYND, 587 rows\n",
      "→ Attempting NKLA…\n",
      "   ✅ Fetched NKLA, 0 rows\n",
      "→ Attempting BB…\n",
      "   ✅ Fetched BB, 587 rows\n",
      "→ Attempting FUBO…\n",
      "   ✅ Fetched FUBO, 587 rows\n",
      "→ Attempting CCL…\n",
      "   ✅ Fetched CCL, 587 rows\n",
      "→ Attempting UAL…\n",
      "   ✅ Fetched UAL, 587 rows\n",
      "→ Attempting DAL…\n",
      "   ✅ Fetched DAL, 587 rows\n",
      "→ Attempting DIS…\n",
      "   ✅ Fetched DIS, 587 rows\n",
      "Failed tickers:  []\n"
     ]
    },
    {
     "data": {
      "text/html": [
       "<div>\n",
       "<style scoped>\n",
       "    .dataframe tbody tr th:only-of-type {\n",
       "        vertical-align: middle;\n",
       "    }\n",
       "\n",
       "    .dataframe tbody tr th {\n",
       "        vertical-align: top;\n",
       "    }\n",
       "\n",
       "    .dataframe thead th {\n",
       "        text-align: right;\n",
       "    }\n",
       "</style>\n",
       "<table border=\"1\" class=\"dataframe\">\n",
       "  <thead>\n",
       "    <tr style=\"text-align: right;\">\n",
       "      <th></th>\n",
       "      <th>Date</th>\n",
       "      <th>Open</th>\n",
       "      <th>High</th>\n",
       "      <th>Low</th>\n",
       "      <th>Close</th>\n",
       "      <th>Volume</th>\n",
       "      <th>Ticker</th>\n",
       "      <th>No data</th>\n",
       "    </tr>\n",
       "  </thead>\n",
       "  <tbody>\n",
       "    <tr>\n",
       "      <th>0</th>\n",
       "      <td>2023-04-06</td>\n",
       "      <td>160.808</td>\n",
       "      <td>163.313</td>\n",
       "      <td>160.382</td>\n",
       "      <td>163.016</td>\n",
       "      <td>45847869.0</td>\n",
       "      <td>AAPL</td>\n",
       "      <td>NaN</td>\n",
       "    </tr>\n",
       "    <tr>\n",
       "      <th>1</th>\n",
       "      <td>2023-04-10</td>\n",
       "      <td>159.809</td>\n",
       "      <td>160.412</td>\n",
       "      <td>158.481</td>\n",
       "      <td>160.412</td>\n",
       "      <td>48198093.0</td>\n",
       "      <td>AAPL</td>\n",
       "      <td>NaN</td>\n",
       "    </tr>\n",
       "    <tr>\n",
       "      <th>2</th>\n",
       "      <td>2023-04-11</td>\n",
       "      <td>160.729</td>\n",
       "      <td>160.739</td>\n",
       "      <td>158.907</td>\n",
       "      <td>159.194</td>\n",
       "      <td>48124695.0</td>\n",
       "      <td>AAPL</td>\n",
       "      <td>NaN</td>\n",
       "    </tr>\n",
       "    <tr>\n",
       "      <th>3</th>\n",
       "      <td>2023-04-12</td>\n",
       "      <td>159.610</td>\n",
       "      <td>160.442</td>\n",
       "      <td>158.185</td>\n",
       "      <td>158.501</td>\n",
       "      <td>50638640.0</td>\n",
       "      <td>AAPL</td>\n",
       "      <td>NaN</td>\n",
       "    </tr>\n",
       "    <tr>\n",
       "      <th>4</th>\n",
       "      <td>2023-04-13</td>\n",
       "      <td>160.016</td>\n",
       "      <td>164.146</td>\n",
       "      <td>159.809</td>\n",
       "      <td>163.907</td>\n",
       "      <td>69135904.0</td>\n",
       "      <td>AAPL</td>\n",
       "      <td>NaN</td>\n",
       "    </tr>\n",
       "  </tbody>\n",
       "</table>\n",
       "</div>"
      ],
      "text/plain": [
       "        Date     Open     High      Low    Close      Volume Ticker No data\n",
       "0 2023-04-06  160.808  163.313  160.382  163.016  45847869.0   AAPL     NaN\n",
       "1 2023-04-10  159.809  160.412  158.481  160.412  48198093.0   AAPL     NaN\n",
       "2 2023-04-11  160.729  160.739  158.907  159.194  48124695.0   AAPL     NaN\n",
       "3 2023-04-12  159.610  160.442  158.185  158.501  50638640.0   AAPL     NaN\n",
       "4 2023-04-13  160.016  164.146  159.809  163.907  69135904.0   AAPL     NaN"
      ]
     },
     "metadata": {},
     "output_type": "display_data"
    }
   ],
   "source": [
    "import pandas as pd\n",
    "from pandas_datareader import data as pdr\n",
    "\n",
    "tickers = [\"AAPL\",\"GOOG\",\"MSFT\",\"NFLX\",\"TSLA\",\"AMC\",\"GME\",\"COIN\",\"RIOT\",\"DKNG\",\"UBER\", \"PLTR\", \"CLOV\", \"RBLX\", \"FSLY\", \"SNAP\",\"TLRY\",\"BYND\",\"NKLA\", \"BB\",   \"FUBO\", \"CCL\",   \"UAL\",\n",
    "    \"DAL\",  \n",
    "    \"DIS\"]\n",
    "start = \"2023-04-06\"\n",
    "end   = pd.Timestamp.today().strftime(\"%Y-%m-%d\")\n",
    "\n",
    "all_dfs = []\n",
    "failed = []\n",
    "\n",
    "for tk in tickers:\n",
    "    print(f\"→ Attempting {tk}…\")\n",
    "    try:\n",
    "        df = pdr.DataReader(tk, \"stooq\", start, end)\n",
    "    except Exception as e:\n",
    "        print(f\"   ❌ Failed {tk}: {e}\")\n",
    "        failed.append(tk)\n",
    "        continue\n",
    "\n",
    "    # Stooq returns newest first—reorder, tag, and store\n",
    "    df = df.sort_index().reset_index()\n",
    "    df[\"Ticker\"] = tk\n",
    "    all_dfs.append(df)\n",
    "    print(f\"   ✅ Fetched {tk}, {len(df)} rows\")\n",
    "\n",
    "\n",
    "print(\"Failed tickers: \", failed)\n",
    "\n",
    "# Finally concatenate and inspect\n",
    "if all_dfs:\n",
    "    full = pd.concat(all_dfs, ignore_index=True)\n",
    "    display(full.head())\n",
    "else:\n",
    "    print(\"No data fetched—check your tickers or try another data source.\")"
   ]
  },
  {
   "cell_type": "code",
   "execution_count": 182,
   "id": "4efb2434-711e-4128-b479-78d7de2adb75",
   "metadata": {},
   "outputs": [
    {
     "name": "stdout",
     "output_type": "stream",
     "text": [
      "Unique tickers fetched: ['AAPL' 'GOOG' 'MSFT' 'NFLX' 'TSLA' 'AMC' 'GME' 'COIN' 'RIOT' 'DKNG'\n",
      " 'UBER' 'PLTR' 'CLOV' 'RBLX' 'FSLY' 'SNAP' 'TLRY' 'BYND' 'BB' 'FUBO' 'CCL'\n",
      " 'UAL' 'DAL' 'DIS']\n"
     ]
    }
   ],
   "source": [
    "full = pd.concat(all_dfs, ignore_index=True)\n",
    "print(\"Unique tickers fetched:\", full[\"Ticker\"].unique())"
   ]
  },
  {
   "cell_type": "code",
   "execution_count": 183,
   "id": "f3c8f69a-6b8a-42ac-993e-548f78d71520",
   "metadata": {},
   "outputs": [
    {
     "name": "stdout",
     "output_type": "stream",
     "text": [
      "['Date', 'Ticker', 'Adj Close', 'Close', 'High', 'Low', 'Open', 'Volume']\n"
     ]
    },
    {
     "data": {
      "text/html": [
       "<div>\n",
       "<style scoped>\n",
       "    .dataframe tbody tr th:only-of-type {\n",
       "        vertical-align: middle;\n",
       "    }\n",
       "\n",
       "    .dataframe tbody tr th {\n",
       "        vertical-align: top;\n",
       "    }\n",
       "\n",
       "    .dataframe thead th {\n",
       "        text-align: right;\n",
       "    }\n",
       "</style>\n",
       "<table border=\"1\" class=\"dataframe\">\n",
       "  <thead>\n",
       "    <tr style=\"text-align: right;\">\n",
       "      <th></th>\n",
       "      <th>Date</th>\n",
       "      <th>Ticker</th>\n",
       "      <th>Adj Close</th>\n",
       "      <th>Close</th>\n",
       "      <th>High</th>\n",
       "      <th>Low</th>\n",
       "      <th>Open</th>\n",
       "      <th>Volume</th>\n",
       "    </tr>\n",
       "  </thead>\n",
       "  <tbody>\n",
       "    <tr>\n",
       "      <th>0</th>\n",
       "      <td>2023-04-06</td>\n",
       "      <td>AAPL</td>\n",
       "      <td>163.016</td>\n",
       "      <td>163.016</td>\n",
       "      <td>163.313</td>\n",
       "      <td>160.382</td>\n",
       "      <td>160.808</td>\n",
       "      <td>45847869.0</td>\n",
       "    </tr>\n",
       "    <tr>\n",
       "      <th>1</th>\n",
       "      <td>2023-04-10</td>\n",
       "      <td>AAPL</td>\n",
       "      <td>160.412</td>\n",
       "      <td>160.412</td>\n",
       "      <td>160.412</td>\n",
       "      <td>158.481</td>\n",
       "      <td>159.809</td>\n",
       "      <td>48198093.0</td>\n",
       "    </tr>\n",
       "    <tr>\n",
       "      <th>2</th>\n",
       "      <td>2023-04-11</td>\n",
       "      <td>AAPL</td>\n",
       "      <td>159.194</td>\n",
       "      <td>159.194</td>\n",
       "      <td>160.739</td>\n",
       "      <td>158.907</td>\n",
       "      <td>160.729</td>\n",
       "      <td>48124695.0</td>\n",
       "    </tr>\n",
       "    <tr>\n",
       "      <th>3</th>\n",
       "      <td>2023-04-12</td>\n",
       "      <td>AAPL</td>\n",
       "      <td>158.501</td>\n",
       "      <td>158.501</td>\n",
       "      <td>160.442</td>\n",
       "      <td>158.185</td>\n",
       "      <td>159.610</td>\n",
       "      <td>50638640.0</td>\n",
       "    </tr>\n",
       "    <tr>\n",
       "      <th>4</th>\n",
       "      <td>2023-04-13</td>\n",
       "      <td>AAPL</td>\n",
       "      <td>163.907</td>\n",
       "      <td>163.907</td>\n",
       "      <td>164.146</td>\n",
       "      <td>159.809</td>\n",
       "      <td>160.016</td>\n",
       "      <td>69135904.0</td>\n",
       "    </tr>\n",
       "  </tbody>\n",
       "</table>\n",
       "</div>"
      ],
      "text/plain": [
       "        Date Ticker  Adj Close    Close     High      Low     Open      Volume\n",
       "0 2023-04-06   AAPL    163.016  163.016  163.313  160.382  160.808  45847869.0\n",
       "1 2023-04-10   AAPL    160.412  160.412  160.412  158.481  159.809  48198093.0\n",
       "2 2023-04-11   AAPL    159.194  159.194  160.739  158.907  160.729  48124695.0\n",
       "3 2023-04-12   AAPL    158.501  158.501  160.442  158.185  159.610  50638640.0\n",
       "4 2023-04-13   AAPL    163.907  163.907  164.146  159.809  160.016  69135904.0"
      ]
     },
     "execution_count": 183,
     "metadata": {},
     "output_type": "execute_result"
    }
   ],
   "source": [
    "# 1) Rename Close → Adj Close\n",
    "full = full.rename(columns={\"Close\": \"Adj Close\"})\n",
    "\n",
    "# 2) If you want both Close and Adj Close exactly as in the original:\n",
    "#    (Stooq's Close is already adjusted, so we'll just duplicate it)\n",
    "full[\"Close\"] = full[\"Adj Close\"]\n",
    "\n",
    "# 3) Subset & reorder columns to match your original dataset:\n",
    "#    ['Date','Ticker','Adj Close','Close','High','Low','Open','Volume']\n",
    "cols = [\"Date\",\"Ticker\",\"Adj Close\",\"Close\",\"High\",\"Low\",\"Open\",\"Volume\"]\n",
    "full = full[cols]\n",
    "\n",
    "# 4) (Optional) Sort & reset index\n",
    "full = full.sort_values([\"Ticker\",\"Date\"]).reset_index(drop=True)\n",
    "\n",
    "# 5) Verify it matches the original schema\n",
    "print(full.columns.tolist())\n",
    "# ['Date', 'Ticker', 'Adj Close', 'Close', 'High', 'Low', 'Open', 'Volume']\n",
    "\n",
    "# 6) Take a peek\n",
    "full.head()"
   ]
  },
  {
   "cell_type": "code",
   "execution_count": 184,
   "id": "687f6282-5333-4b62-a54b-a30046fe6621",
   "metadata": {},
   "outputs": [
    {
     "data": {
      "text/plain": [
       "(14088, 8)"
      ]
     },
     "execution_count": 184,
     "metadata": {},
     "output_type": "execute_result"
    }
   ],
   "source": [
    "full.shape"
   ]
  },
  {
   "cell_type": "markdown",
   "id": "6292b0d0-ab94-4c5a-8e6c-6462875a14c8",
   "metadata": {},
   "source": [
    "### Generating random portfolios based on Ticker Universe"
   ]
  },
  {
   "cell_type": "code",
   "execution_count": 186,
   "id": "62ec1822-64fa-47b7-9b83-38bef68e1bb2",
   "metadata": {},
   "outputs": [
    {
     "name": "stdout",
     "output_type": "stream",
     "text": [
      "P1: ['BYND', 'GOOG', 'NFLX', 'TLRY', 'RIOT']\n",
      "P2: ['FUBO', 'PLTR', 'AMC', 'CLOV', 'BYND']\n",
      "P3: ['PLTR', 'BB', 'DAL', 'FUBO', 'TSLA']\n",
      "P4: ['UAL', 'MSFT', 'UBER', 'AMC']\n",
      "P5: ['FSLY', 'MSFT', 'DAL', 'DKNG']\n",
      "P6: ['GME', 'MSFT', 'TSLA', 'TLRY', 'COIN']\n",
      "P7: ['GOOG', 'CLOV', 'CCL', 'PLTR', 'NFLX']\n",
      "P8: ['COIN', 'UAL', 'TLRY']\n",
      "P9: ['SNAP', 'FUBO', 'PLTR', 'FSLY']\n",
      "P10: ['RBLX', 'SNAP', 'PLTR', 'FSLY']\n",
      "P11: ['UAL', 'RBLX', 'NFLX', 'UBER']\n",
      "P12: ['UAL', 'FUBO', 'CCL', 'BYND', 'TLRY']\n",
      "P13: ['CCL', 'UAL', 'RIOT', 'DKNG']\n",
      "P14: ['GME', 'AMC', 'GOOG']\n",
      "P15: ['TSLA', 'NFLX', 'BYND', 'BB']\n",
      "P16: ['DIS', 'DAL', 'AMC', 'BB']\n",
      "P17: ['NFLX', 'CLOV', 'PLTR', 'FSLY']\n",
      "P18: ['RBLX', 'UAL', 'CLOV', 'BYND', 'DIS']\n",
      "P19: ['PLTR', 'CLOV', 'UBER', 'DKNG']\n",
      "P20: ['AMC', 'COIN', 'FSLY', 'DKNG', 'TLRY']\n",
      "P21: ['DAL', 'AAPL', 'PLTR', 'UAL']\n",
      "P22: ['UAL', 'TSLA', 'BYND', 'AAPL', 'CCL']\n",
      "P23: ['MSFT', 'UBER', 'AMC', 'TLRY', 'CCL']\n",
      "P24: ['TLRY', 'AMC', 'GOOG', 'BYND']\n",
      "P25: ['DAL', 'FUBO', 'NFLX', 'TSLA', 'DKNG']\n",
      "P26: ['DKNG', 'UAL', 'GOOG', 'COIN']\n",
      "P27: ['BYND', 'DAL', 'UBER', 'NFLX', 'COIN']\n",
      "P28: ['DAL', 'FSLY', 'TSLA']\n",
      "P29: ['TLRY', 'DKNG', 'DIS', 'SNAP']\n",
      "P30: ['BB', 'COIN', 'DIS', 'TLRY', 'UAL']\n",
      "P31: ['RBLX', 'AAPL', 'AMC']\n",
      "P32: ['DAL', 'BYND', 'SNAP', 'NFLX']\n",
      "P33: ['UBER', 'RBLX', 'UAL', 'CCL']\n",
      "P34: ['TLRY', 'DAL', 'NFLX', 'SNAP']\n",
      "P35: ['BB', 'GME', 'NFLX', 'FSLY', 'RBLX']\n",
      "P36: ['PLTR', 'DKNG', 'COIN', 'GME']\n",
      "P37: ['AMC', 'UAL', 'COIN', 'UBER', 'TLRY']\n",
      "P38: ['GOOG', 'SNAP', 'RIOT']\n",
      "P39: ['UAL', 'DKNG', 'COIN']\n",
      "P40: ['MSFT', 'UAL', 'FUBO', 'CCL', 'AMC']\n",
      "P41: ['AMC', 'FSLY', 'PLTR', 'SNAP', 'DIS']\n",
      "P42: ['BB', 'COIN', 'UAL', 'RBLX']\n",
      "P43: ['UAL', 'FUBO', 'TLRY', 'BB', 'DIS']\n",
      "P44: ['NFLX', 'TLRY', 'AMC']\n",
      "P45: ['GOOG', 'CCL', 'AAPL', 'FUBO', 'UBER']\n",
      "P46: ['NFLX', 'BB', 'GOOG', 'UBER', 'DAL']\n",
      "P47: ['CCL', 'DKNG', 'TSLA', 'MSFT', 'FSLY']\n",
      "P48: ['UBER', 'FSLY', 'RBLX', 'CCL', 'CLOV']\n",
      "P49: ['DKNG', 'SNAP', 'COIN', 'NFLX']\n",
      "P50: ['DIS', 'FUBO', 'GOOG']\n",
      "P51: ['MSFT', 'BYND', 'RBLX', 'GME']\n",
      "P52: ['COIN', 'SNAP', 'BB', 'FUBO']\n",
      "P53: ['PLTR', 'FSLY', 'DIS', 'BYND']\n",
      "P54: ['DKNG', 'GME', 'DIS']\n",
      "P55: ['BYND', 'CCL', 'CLOV', 'GOOG', 'RIOT']\n",
      "P56: ['FSLY', 'BYND', 'CLOV', 'UBER']\n",
      "P57: ['AAPL', 'BYND', 'CLOV', 'TLRY', 'FUBO']\n",
      "P58: ['MSFT', 'NFLX', 'RIOT', 'CLOV', 'TSLA']\n",
      "P59: ['TSLA', 'DIS', 'TLRY']\n",
      "P60: ['TLRY', 'FSLY', 'CLOV']\n",
      "P61: ['MSFT', 'NFLX', 'AAPL', 'BB', 'DKNG']\n",
      "P62: ['FUBO', 'DAL', 'DKNG', 'NFLX']\n",
      "P63: ['RIOT', 'SNAP', 'COIN']\n",
      "P64: ['BYND', 'PLTR', 'DIS']\n",
      "P65: ['PLTR', 'DKNG', 'MSFT', 'SNAP']\n",
      "P66: ['CLOV', 'BB', 'SNAP']\n",
      "P67: ['UAL', 'RBLX', 'BB', 'GME']\n",
      "P68: ['GME', 'DAL', 'UBER', 'NFLX']\n",
      "P69: ['TLRY', 'GME', 'DIS']\n",
      "P70: ['DKNG', 'SNAP', 'GME', 'BYND']\n",
      "P71: ['DAL', 'TSLA', 'AMC']\n",
      "P72: ['AMC', 'CCL', 'RIOT', 'BYND', 'COIN']\n",
      "P73: ['FUBO', 'BB', 'FSLY']\n",
      "P74: ['CCL', 'AAPL', 'RBLX', 'TSLA', 'GME']\n",
      "P75: ['AAPL', 'TSLA', 'GME', 'DAL', 'MSFT']\n",
      "P76: ['BYND', 'AMC', 'COIN']\n",
      "P77: ['AAPL', 'RIOT', 'DAL']\n",
      "P78: ['UBER', 'PLTR', 'GOOG']\n",
      "P79: ['GME', 'UAL', 'NFLX']\n",
      "P80: ['AMC', 'GME', 'TSLA', 'RBLX', 'COIN']\n",
      "P81: ['DAL', 'BB', 'NFLX', 'AAPL', 'DKNG']\n",
      "P82: ['UBER', 'MSFT', 'COIN', 'RIOT', 'BB']\n",
      "P83: ['DIS', 'BYND', 'RIOT', 'BB']\n",
      "P84: ['RIOT', 'FSLY', 'NFLX', 'COIN']\n",
      "P85: ['DAL', 'TLRY', 'PLTR', 'UAL']\n",
      "P86: ['GME', 'NFLX', 'PLTR']\n",
      "P87: ['AAPL', 'FSLY', 'COIN', 'RIOT']\n",
      "P88: ['COIN', 'AAPL', 'RIOT', 'AMC', 'DKNG']\n",
      "P89: ['CLOV', 'GME', 'UBER']\n",
      "P90: ['PLTR', 'DIS', 'BB']\n",
      "P91: ['GOOG', 'CLOV', 'UAL', 'FSLY']\n",
      "P92: ['DAL', 'AAPL', 'BYND', 'CLOV', 'RIOT']\n",
      "P93: ['UBER', 'TSLA', 'UAL', 'AMC', 'FUBO']\n",
      "P94: ['RBLX', 'TSLA', 'GOOG']\n",
      "P95: ['TLRY', 'FSLY', 'AMC', 'GOOG']\n",
      "P96: ['PLTR', 'MSFT', 'BB']\n",
      "P97: ['DIS', 'MSFT', 'COIN']\n",
      "P98: ['GME', 'TLRY', 'RBLX', 'UAL']\n",
      "P99: ['DKNG', 'PLTR', 'RIOT']\n",
      "P100: ['BYND', 'TSLA', 'FUBO', 'NFLX']\n"
     ]
    }
   ],
   "source": [
    "import numpy as np\n",
    "\n",
    "# Suppose you already have your cleaned DataFrame `df`\n",
    "tickers = full[\"Ticker\"].unique()\n",
    "num_portfolios = 500\n",
    "\n",
    "portfolios = {}\n",
    "for i in range(num_portfolios):\n",
    "    # pick a random desired size between 3 and 6\n",
    "    desired_size = np.random.randint(3, 6)\n",
    "    # clamp so we never ask for more tickers than exist\n",
    "    k = min(desired_size, len(tickers))\n",
    "    portfolios[f\"P{i+1}\"] = np.random.choice(\n",
    "        tickers,\n",
    "        size=k,\n",
    "        replace=False\n",
    "    ).tolist()\n",
    "\n",
    "# Now print the first 5 portfolios to confirm\n",
    "for pid, assets in list(portfolios.items())[:100]:\n",
    "    print(f\"{pid}: {assets}\")"
   ]
  },
  {
   "cell_type": "markdown",
   "id": "3fcf4cde-e3e2-487f-9849-c08ea05d9e80",
   "metadata": {},
   "source": [
    "### Creating Synthetic Portfolios and Computing Portfolio‐Level Features"
   ]
  },
  {
   "cell_type": "code",
   "execution_count": 188,
   "id": "5a94619a-ac60-401e-ad25-7cc69a43e5d6",
   "metadata": {},
   "outputs": [
    {
     "name": "stdout",
     "output_type": "stream",
     "text": [
      "Columns in portfolio_df: ['Portfolio', 'Date', 'Avg_Return', 'Rolling_Volatility', 'Concentration', 'Num_Assets', 'Anomaly']\n"
     ]
    },
    {
     "data": {
      "text/html": [
       "<div>\n",
       "<style scoped>\n",
       "    .dataframe tbody tr th:only-of-type {\n",
       "        vertical-align: middle;\n",
       "    }\n",
       "\n",
       "    .dataframe tbody tr th {\n",
       "        vertical-align: top;\n",
       "    }\n",
       "\n",
       "    .dataframe thead th {\n",
       "        text-align: right;\n",
       "    }\n",
       "</style>\n",
       "<table border=\"1\" class=\"dataframe\">\n",
       "  <thead>\n",
       "    <tr style=\"text-align: right;\">\n",
       "      <th></th>\n",
       "      <th>Portfolio</th>\n",
       "      <th>Date</th>\n",
       "      <th>Avg_Return</th>\n",
       "      <th>Rolling_Volatility</th>\n",
       "      <th>Concentration</th>\n",
       "      <th>Num_Assets</th>\n",
       "      <th>Anomaly</th>\n",
       "    </tr>\n",
       "  </thead>\n",
       "  <tbody>\n",
       "    <tr>\n",
       "      <th>0</th>\n",
       "      <td>P1</td>\n",
       "      <td>2023-04-06</td>\n",
       "      <td>NaN</td>\n",
       "      <td>NaN</td>\n",
       "      <td>0.691868</td>\n",
       "      <td>5</td>\n",
       "      <td>0</td>\n",
       "    </tr>\n",
       "    <tr>\n",
       "      <th>1</th>\n",
       "      <td>P1</td>\n",
       "      <td>2023-04-10</td>\n",
       "      <td>0.040933</td>\n",
       "      <td>0.070910</td>\n",
       "      <td>0.680344</td>\n",
       "      <td>5</td>\n",
       "      <td>1</td>\n",
       "    </tr>\n",
       "    <tr>\n",
       "      <th>2</th>\n",
       "      <td>P1</td>\n",
       "      <td>2023-04-11</td>\n",
       "      <td>0.053216</td>\n",
       "      <td>0.071823</td>\n",
       "      <td>0.667799</td>\n",
       "      <td>5</td>\n",
       "      <td>1</td>\n",
       "    </tr>\n",
       "    <tr>\n",
       "      <th>3</th>\n",
       "      <td>P1</td>\n",
       "      <td>2023-04-12</td>\n",
       "      <td>-0.032815</td>\n",
       "      <td>0.059228</td>\n",
       "      <td>0.670875</td>\n",
       "      <td>5</td>\n",
       "      <td>1</td>\n",
       "    </tr>\n",
       "    <tr>\n",
       "      <th>4</th>\n",
       "      <td>P1</td>\n",
       "      <td>2023-04-13</td>\n",
       "      <td>0.042751</td>\n",
       "      <td>0.055031</td>\n",
       "      <td>0.672865</td>\n",
       "      <td>5</td>\n",
       "      <td>1</td>\n",
       "    </tr>\n",
       "  </tbody>\n",
       "</table>\n",
       "</div>"
      ],
      "text/plain": [
       "  Portfolio       Date  Avg_Return  Rolling_Volatility  Concentration  \\\n",
       "0        P1 2023-04-06         NaN                 NaN       0.691868   \n",
       "1        P1 2023-04-10    0.040933            0.070910       0.680344   \n",
       "2        P1 2023-04-11    0.053216            0.071823       0.667799   \n",
       "3        P1 2023-04-12   -0.032815            0.059228       0.670875   \n",
       "4        P1 2023-04-13    0.042751            0.055031       0.672865   \n",
       "\n",
       "   Num_Assets  Anomaly  \n",
       "0           5        0  \n",
       "1           5        1  \n",
       "2           5        1  \n",
       "3           5        1  \n",
       "4           5        1  "
      ]
     },
     "execution_count": 188,
     "metadata": {},
     "output_type": "execute_result"
    }
   ],
   "source": [
    "import random\n",
    "tickers = full[\"Ticker\"].unique().tolist()\n",
    "num_portfolios = 100\n",
    "portfolios = {}\n",
    "for i in range(num_portfolios):\n",
    "    k = random.randint(3,5)\n",
    "    portfolios[f\"P{i+1}\"] = random.sample(tickers, k)\n",
    "\n",
    "records = []\n",
    "for pid, assets in portfolios.items():\n",
    "    sub = full[full[\"Ticker\"].isin(assets)]\n",
    "    prices = sub.pivot(index=\"Date\", columns=\"Ticker\", values=\"Adj Close\")\n",
    "\n",
    "    avg_ret = prices.pct_change().mean(axis=1)\n",
    "    roll_vol = prices.pct_change().std(axis=1).rolling(5, min_periods=1).mean()\n",
    "    weights = prices.div(prices.sum(axis=1), axis=0)\n",
    "    conc = weights.max(axis=1)\n",
    "\n",
    "    for date in prices.index:\n",
    "        records.append({\"Portfolio\": pid,\"Date\": date,\"Avg_Return\": avg_ret.loc[date],\"Rolling_Volatility\": roll_vol.loc[date],\n",
    "                        \"Concentration\": conc.loc[date], \"Num_Assets\": len(assets)})\n",
    "portfolio_df = pd.DataFrame(records)\n",
    "portfolio_df = portfolio_df.sort_values([\"Portfolio\",\"Date\"]).reset_index(drop=True)\n",
    "\n",
    "#  Label anomalies\n",
    "thr = portfolio_df[\"Rolling_Volatility\"].quantile(0.95)\n",
    "portfolio_df[\"Anomaly\"] = (portfolio_df[\"Rolling_Volatility\"] > thr).astype(int)\n",
    "\n",
    "print(\"Columns in portfolio_df:\", portfolio_df.columns.tolist())\n",
    "portfolio_df.head()"
   ]
  },
  {
   "cell_type": "code",
   "execution_count": 189,
   "id": "d9780bc6-411f-4ba6-8370-96a0611648b1",
   "metadata": {},
   "outputs": [
    {
     "data": {
      "text/plain": [
       "(58700, 7)"
      ]
     },
     "execution_count": 189,
     "metadata": {},
     "output_type": "execute_result"
    }
   ],
   "source": [
    "portfolio_df.shape"
   ]
  },
  {
   "cell_type": "code",
   "execution_count": 190,
   "id": "ed5886df-824a-4f44-828f-79fb14fe687b",
   "metadata": {},
   "outputs": [
    {
     "data": {
      "text/plain": [
       "Portfolio               0\n",
       "Date                    0\n",
       "Avg_Return            100\n",
       "Rolling_Volatility    100\n",
       "Concentration           0\n",
       "Num_Assets              0\n",
       "Anomaly                 0\n",
       "dtype: int64"
      ]
     },
     "execution_count": 190,
     "metadata": {},
     "output_type": "execute_result"
    }
   ],
   "source": [
    "portfolio_df.isna().sum()"
   ]
  },
  {
   "cell_type": "code",
   "execution_count": 191,
   "id": "8cbd6481-3a10-46fa-9b0d-051ad1b60cbe",
   "metadata": {},
   "outputs": [
    {
     "name": "stdout",
     "output_type": "stream",
     "text": [
      "Avg_Return            0\n",
      "Rolling_Volatility    0\n",
      "dtype: int64\n"
     ]
    },
    {
     "name": "stderr",
     "output_type": "stream",
     "text": [
      "/var/folders/dd/wj7mp0fn2430wm60sqv1wl_w0000gn/T/ipykernel_69184/2968159128.py:2: FutureWarning: A value is trying to be set on a copy of a DataFrame or Series through chained assignment using an inplace method.\n",
      "The behavior will change in pandas 3.0. This inplace method will never work because the intermediate object on which we are setting values always behaves as a copy.\n",
      "\n",
      "For example, when doing 'df[col].method(value, inplace=True)', try using 'df.method({col: value}, inplace=True)' or df[col] = df[col].method(value) instead, to perform the operation inplace on the original object.\n",
      "\n",
      "\n",
      "  portfolio_df['Avg_Return'].fillna(0, inplace=True)\n",
      "/var/folders/dd/wj7mp0fn2430wm60sqv1wl_w0000gn/T/ipykernel_69184/2968159128.py:3: FutureWarning: A value is trying to be set on a copy of a DataFrame or Series through chained assignment using an inplace method.\n",
      "The behavior will change in pandas 3.0. This inplace method will never work because the intermediate object on which we are setting values always behaves as a copy.\n",
      "\n",
      "For example, when doing 'df[col].method(value, inplace=True)', try using 'df.method({col: value}, inplace=True)' or df[col] = df[col].method(value) instead, to perform the operation inplace on the original object.\n",
      "\n",
      "\n",
      "  portfolio_df['Rolling_Volatility'].fillna(0, inplace=True)\n"
     ]
    }
   ],
   "source": [
    "# 1. Fill missing Avg_Return and Rolling_Volatility with zero\n",
    "portfolio_df['Avg_Return'].fillna(0, inplace=True)\n",
    "portfolio_df['Rolling_Volatility'].fillna(0, inplace=True)\n",
    "\n",
    "# 2. (Optional) Verify there are no more NaNs\n",
    "print(portfolio_df[['Avg_Return','Rolling_Volatility']].isna().sum())"
   ]
  },
  {
   "cell_type": "code",
   "execution_count": 192,
   "id": "0d89afbe-5821-4e8b-9829-63bed7bba257",
   "metadata": {},
   "outputs": [
    {
     "data": {
      "text/plain": [
       "Portfolio             0\n",
       "Date                  0\n",
       "Avg_Return            0\n",
       "Rolling_Volatility    0\n",
       "Concentration         0\n",
       "Num_Assets            0\n",
       "Anomaly               0\n",
       "dtype: int64"
      ]
     },
     "execution_count": 192,
     "metadata": {},
     "output_type": "execute_result"
    }
   ],
   "source": [
    "portfolio_df.isna().sum()"
   ]
  },
  {
   "cell_type": "code",
   "execution_count": 193,
   "id": "1ef5d857-9b3b-4c86-8a94-5f99e1ed758c",
   "metadata": {},
   "outputs": [
    {
     "name": "stdout",
     "output_type": "stream",
     "text": [
      "Dropped 0 duplicate rows\n"
     ]
    }
   ],
   "source": [
    "# Drop any exact duplicates\n",
    "before = len(portfolio_df)\n",
    "portfolio_df.drop_duplicates(inplace=True)\n",
    "print(f\"Dropped {before - len(portfolio_df)} duplicate rows\")"
   ]
  },
  {
   "cell_type": "code",
   "execution_count": 194,
   "id": "a2610da2-d157-4145-9902-45f7b50ed1d8",
   "metadata": {},
   "outputs": [],
   "source": [
    "portfolio_df.sort_values(['Portfolio','Date'], inplace=True)\n",
    "portfolio_df.reset_index(drop=True, inplace=True)"
   ]
  },
  {
   "cell_type": "code",
   "execution_count": 195,
   "id": "b6e5071a-1c29-4f57-bee3-2cd15b45bb40",
   "metadata": {},
   "outputs": [
    {
     "name": "stdout",
     "output_type": "stream",
     "text": [
      "Extreme outliers:\n",
      " Empty DataFrame\n",
      "Columns: [Portfolio, Date, Avg_Return, Rolling_Volatility, Concentration, Num_Assets, Anomaly]\n",
      "Index: []\n"
     ]
    }
   ],
   "source": [
    "# Flag extreme values for manual review\n",
    "extreme = portfolio_df[\n",
    "    (portfolio_df['Avg_Return'].abs() > 1) |\n",
    "    (portfolio_df['Rolling_Volatility'] > 1)\n",
    "]\n",
    "print(\"Extreme outliers:\\n\", extreme.head())"
   ]
  },
  {
   "cell_type": "code",
   "execution_count": 196,
   "id": "5bbff0ff-82e0-4d38-a1b3-67d43ad7821c",
   "metadata": {},
   "outputs": [],
   "source": [
    "# Clip returns to ±100% and vol to [0,200%]\n",
    "portfolio_df['Avg_Return'] = portfolio_df['Avg_Return'].clip(-1,1)\n",
    "portfolio_df['Rolling_Volatility'] = portfolio_df['Rolling_Volatility'].clip(0,2)"
   ]
  },
  {
   "cell_type": "code",
   "execution_count": 197,
   "id": "75156041-1edd-49d7-adf0-f1b984304b7e",
   "metadata": {},
   "outputs": [],
   "source": [
    "from sklearn.preprocessing import StandardScaler\n",
    "\n",
    "scaler = StandardScaler()\n",
    "portfolio_df[['Avg_Return','Rolling_Volatility','Concentration','Num_Assets']] = \\\n",
    "    scaler.fit_transform(portfolio_df[['Avg_Return','Rolling_Volatility','Concentration','Num_Assets']])"
   ]
  },
  {
   "cell_type": "code",
   "execution_count": 198,
   "id": "a9e4041e-4e7e-4938-a3f8-6e64d8bebdf4",
   "metadata": {},
   "outputs": [
    {
     "data": {
      "text/html": [
       "<div>\n",
       "<style scoped>\n",
       "    .dataframe tbody tr th:only-of-type {\n",
       "        vertical-align: middle;\n",
       "    }\n",
       "\n",
       "    .dataframe tbody tr th {\n",
       "        vertical-align: top;\n",
       "    }\n",
       "\n",
       "    .dataframe thead th {\n",
       "        text-align: right;\n",
       "    }\n",
       "</style>\n",
       "<table border=\"1\" class=\"dataframe\">\n",
       "  <thead>\n",
       "    <tr style=\"text-align: right;\">\n",
       "      <th></th>\n",
       "      <th>Portfolio</th>\n",
       "      <th>Date</th>\n",
       "      <th>Avg_Return</th>\n",
       "      <th>Rolling_Volatility</th>\n",
       "      <th>Concentration</th>\n",
       "      <th>Num_Assets</th>\n",
       "      <th>Anomaly</th>\n",
       "    </tr>\n",
       "  </thead>\n",
       "  <tbody>\n",
       "    <tr>\n",
       "      <th>58695</th>\n",
       "      <td>P99</td>\n",
       "      <td>2025-08-04</td>\n",
       "      <td>1.036655</td>\n",
       "      <td>-0.372826</td>\n",
       "      <td>1.092176</td>\n",
       "      <td>1.155262</td>\n",
       "      <td>0</td>\n",
       "    </tr>\n",
       "    <tr>\n",
       "      <th>58696</th>\n",
       "      <td>P99</td>\n",
       "      <td>2025-08-05</td>\n",
       "      <td>-0.194079</td>\n",
       "      <td>-0.464968</td>\n",
       "      <td>1.078217</td>\n",
       "      <td>1.155262</td>\n",
       "      <td>0</td>\n",
       "    </tr>\n",
       "    <tr>\n",
       "      <th>58697</th>\n",
       "      <td>P99</td>\n",
       "      <td>2025-08-06</td>\n",
       "      <td>-1.219420</td>\n",
       "      <td>0.336006</td>\n",
       "      <td>1.099367</td>\n",
       "      <td>1.155262</td>\n",
       "      <td>0</td>\n",
       "    </tr>\n",
       "    <tr>\n",
       "      <th>58698</th>\n",
       "      <td>P99</td>\n",
       "      <td>2025-08-07</td>\n",
       "      <td>0.461325</td>\n",
       "      <td>0.873017</td>\n",
       "      <td>1.097172</td>\n",
       "      <td>1.155262</td>\n",
       "      <td>0</td>\n",
       "    </tr>\n",
       "    <tr>\n",
       "      <th>58699</th>\n",
       "      <td>P99</td>\n",
       "      <td>2025-08-08</td>\n",
       "      <td>-0.587734</td>\n",
       "      <td>1.036974</td>\n",
       "      <td>1.103010</td>\n",
       "      <td>1.155262</td>\n",
       "      <td>0</td>\n",
       "    </tr>\n",
       "  </tbody>\n",
       "</table>\n",
       "</div>"
      ],
      "text/plain": [
       "      Portfolio       Date  Avg_Return  Rolling_Volatility  Concentration  \\\n",
       "58695       P99 2025-08-04    1.036655           -0.372826       1.092176   \n",
       "58696       P99 2025-08-05   -0.194079           -0.464968       1.078217   \n",
       "58697       P99 2025-08-06   -1.219420            0.336006       1.099367   \n",
       "58698       P99 2025-08-07    0.461325            0.873017       1.097172   \n",
       "58699       P99 2025-08-08   -0.587734            1.036974       1.103010   \n",
       "\n",
       "       Num_Assets  Anomaly  \n",
       "58695    1.155262        0  \n",
       "58696    1.155262        0  \n",
       "58697    1.155262        0  \n",
       "58698    1.155262        0  \n",
       "58699    1.155262        0  "
      ]
     },
     "execution_count": 198,
     "metadata": {},
     "output_type": "execute_result"
    }
   ],
   "source": [
    "portfolio_df.tail()"
   ]
  },
  {
   "cell_type": "code",
   "execution_count": 199,
   "id": "88ece1a2-3926-4f58-8d20-63428023fdc7",
   "metadata": {},
   "outputs": [
    {
     "data": {
      "text/plain": [
       "<bound method NDFrame.describe of       Portfolio       Date  Avg_Return  Rolling_Volatility  Concentration  \\\n",
       "0            P1 2023-04-06   -0.050647           -1.607533       0.163022   \n",
       "1            P1 2023-04-10    1.334296            2.378002       0.093118   \n",
       "2            P1 2023-04-11    1.749876            2.429370       0.017028   \n",
       "3            P1 2023-04-12   -1.160896            1.721424       0.035682   \n",
       "4            P1 2023-04-13    1.395776            1.485557       0.047756   \n",
       "...         ...        ...         ...                 ...            ...   \n",
       "58695       P99 2025-08-04    1.036655           -0.372826       1.092176   \n",
       "58696       P99 2025-08-05   -0.194079           -0.464968       1.078217   \n",
       "58697       P99 2025-08-06   -1.219420            0.336006       1.099367   \n",
       "58698       P99 2025-08-07    0.461325            0.873017       1.097172   \n",
       "58699       P99 2025-08-08   -0.587734            1.036974       1.103010   \n",
       "\n",
       "       Num_Assets  Anomaly  \n",
       "0        1.155262        0  \n",
       "1        1.155262        1  \n",
       "2        1.155262        1  \n",
       "3        1.155262        1  \n",
       "4        1.155262        1  \n",
       "...           ...      ...  \n",
       "58695    1.155262        0  \n",
       "58696    1.155262        0  \n",
       "58697    1.155262        0  \n",
       "58698    1.155262        0  \n",
       "58699    1.155262        0  \n",
       "\n",
       "[58700 rows x 7 columns]>"
      ]
     },
     "execution_count": 199,
     "metadata": {},
     "output_type": "execute_result"
    }
   ],
   "source": [
    "portfolio_df.describe"
   ]
  },
  {
   "cell_type": "code",
   "execution_count": 200,
   "id": "51f66c07-71c3-4f22-9d59-b853c85a5375",
   "metadata": {},
   "outputs": [
    {
     "name": "stdout",
     "output_type": "stream",
     "text": [
      "Anomaly\n",
      "0    55770\n",
      "1     2930\n",
      "Name: count, dtype: int64\n"
     ]
    }
   ],
   "source": [
    "print(portfolio_df['Anomaly'].value_counts())\n"
   ]
  },
  {
   "cell_type": "code",
   "execution_count": 201,
   "id": "bfa3c552-0307-430e-92fb-f4f8f07a6e5e",
   "metadata": {},
   "outputs": [
    {
     "data": {
      "image/png": "[encoded data removed]",
      "text/plain": [
       "<Figure size 640x480 with 1 Axes>"
      ]
     },
     "metadata": {},
     "output_type": "display_data"
    }
   ],
   "source": [
    "plt.figure()\n",
    "plt.hist(portfolio_df['Avg_Return'], bins=50)\n",
    "plt.title(\"Distribution of Average Returns\")\n",
    "plt.xlabel(\"Avg_Return\")\n",
    "plt.ylabel(\"Frequency\")\n",
    "plt.show()"
   ]
  },
  {
   "cell_type": "code",
   "execution_count": 202,
   "id": "61eb3bba-d5d6-4249-b07f-0ce78ae2184f",
   "metadata": {},
   "outputs": [
    {
     "data": {
      "image/png": "[encoded data removed]",
      "text/plain": [
       "<Figure size 640x480 with 1 Axes>"
      ]
     },
     "metadata": {},
     "output_type": "display_data"
    }
   ],
   "source": [
    "plt.figure()\n",
    "plt.hist(portfolio_df['Rolling_Volatility'], bins=50)\n",
    "plt.title(\"Distribution of 5-Day Rolling Volatility\")\n",
    "plt.xlabel(\"Rolling_Volatility\")\n",
    "plt.ylabel(\"Frequency\")\n",
    "plt.show()"
   ]
  },
  {
   "cell_type": "code",
   "execution_count": 203,
   "id": "bcd0b909-7f7f-456c-aa7b-a1bde4296264",
   "metadata": {},
   "outputs": [
    {
     "data": {
      "image/png": "[encoded data removed]",
      "text/plain": [
       "<Figure size 640x480 with 1 Axes>"
      ]
     },
     "metadata": {},
     "output_type": "display_data"
    }
   ],
   "source": [
    "plt.figure()\n",
    "plt.hist(portfolio_df['Concentration'], bins=50)\n",
    "plt.title(\"Distribution of Portfolio Concentration\")\n",
    "plt.xlabel(\"Concentration\")\n",
    "plt.ylabel(\"Frequency\")\n",
    "plt.show()"
   ]
  },
  {
   "cell_type": "markdown",
   "id": "d4545d7d-f40e-4188-80c8-6456637376bc",
   "metadata": {},
   "source": [
    "### Preparing Sliding Windows of Time-Series Data for LSTM Training"
   ]
  },
  {
   "cell_type": "code",
   "execution_count": 205,
   "id": "2c6acb0d-2db3-4e32-9146-bc9f8158e7ae",
   "metadata": {},
   "outputs": [],
   "source": [
    "!pip install torch torchvision torchaudio --quiet"
   ]
  },
  {
   "cell_type": "code",
   "execution_count": 206,
   "id": "3149089d-8c7b-447d-b614-23c341358ca5",
   "metadata": {},
   "outputs": [],
   "source": [
    "import torch"
   ]
  },
  {
   "cell_type": "code",
   "execution_count": 207,
   "id": "30bbb56f-07b4-4ca7-bfb8-b2e46099d50b",
   "metadata": {},
   "outputs": [],
   "source": [
    "from torch.utils.data import Dataset, DataLoader"
   ]
  },
  {
   "cell_type": "code",
   "execution_count": 208,
   "id": "3353913e-c2fc-4f4f-b2f0-4a4d719354d4",
   "metadata": {},
   "outputs": [],
   "source": [
    "portfolio_df.sort_values([\"Portfolio\",\"Date\"], inplace=True)"
   ]
  },
  {
   "cell_type": "code",
   "execution_count": 209,
   "id": "2ae69c03-170f-4ebc-9dcf-f54f8f304f74",
   "metadata": {},
   "outputs": [
    {
     "name": "stdout",
     "output_type": "stream",
     "text": [
      "Sequences: (56700, 20, 4) Labels: (56700,)\n"
     ]
    }
   ],
   "source": [
    "feature_cols = [\"Avg_Return\",\"Rolling_Volatility\",\"Concentration\",\"Num_Assets\"]\n",
    "seq_len = 20   # e.g. use the last 20 days to predict today\n",
    "\n",
    "# 4) Build sliding windows of (seq_len → features) and labels\n",
    "X, y = [], []\n",
    "for pid, group in portfolio_df.groupby(\"Portfolio\"):\n",
    "    vals = group[feature_cols].values        # shape [T, F]\n",
    "    labs = group[\"Anomaly\"].values           # shape [T]\n",
    "    for i in range(len(vals) - seq_len):\n",
    "        X.append(vals[i : i + seq_len])      # window of 20 days\n",
    "        y.append(labs[i + seq_len])          # label is the day AFTER the window\n",
    "\n",
    "X = np.stack(X)  # [num_samples, seq_len, num_features]\n",
    "y = np.array(y)  # [num_samples]\n",
    "\n",
    "print(\"Sequences:\", X.shape, \"Labels:\", y.shape)\n"
   ]
  },
  {
   "cell_type": "code",
   "execution_count": 210,
   "id": "91d1596c-0b95-4929-9784-efc35a9653d6",
   "metadata": {},
   "outputs": [],
   "source": [
    "# 5) Split into train / test (e.g. 80/20)\n",
    "split = int(0.8 * len(X))\n",
    "X_train, X_test = X[:split], X[split:]\n",
    "y_train, y_test = y[:split], y[split:]\n",
    "\n",
    "# 6) Wrap in a PyTorch Dataset\n",
    "class PortfolioSeqDataset(Dataset):\n",
    "    def __init__(self, X, y):\n",
    "        self.X = torch.tensor(X, dtype=torch.float32)\n",
    "        self.y = torch.tensor(y, dtype=torch.long)\n",
    "    def __len__(self):\n",
    "        return len(self.y)\n",
    "    def __getitem__(self, idx):\n",
    "        return self.X[idx], self.y[idx]\n",
    "\n",
    "train_ds = PortfolioSeqDataset(X_train, y_train)\n",
    "test_ds  = PortfolioSeqDataset(X_test, y_test)\n"
   ]
  },
  {
   "cell_type": "code",
   "execution_count": 211,
   "id": "bba096ce-5ca6-4ed2-85d2-f18a94f6263d",
   "metadata": {},
   "outputs": [
    {
     "name": "stdout",
     "output_type": "stream",
     "text": [
      "Batch X: torch.Size([32, 20, 4])\n",
      "Batch y: torch.Size([32])\n"
     ]
    }
   ],
   "source": [
    "train_loader = DataLoader(train_ds, batch_size=32, shuffle=True)\n",
    "test_loader  = DataLoader(test_ds, batch_size=32)\n",
    "\n",
    "# 8) Quick sanity check\n",
    "bx, by = next(iter(train_loader))\n",
    "print(\"Batch X:\", bx.shape)   # (32, 20, 4)\n",
    "print(\"Batch y:\", by.shape)   # (32,)"
   ]
  },
  {
   "cell_type": "markdown",
   "id": "0365d81c-242c-4d4f-a0e4-1461fb20ba07",
   "metadata": {},
   "source": [
    "### Defining and Initializing the LSTM Classifier Architecture"
   ]
  },
  {
   "cell_type": "code",
   "execution_count": 213,
   "id": "1eef2c41-7028-4d8b-8522-ef1e07accd13",
   "metadata": {},
   "outputs": [],
   "source": [
    "import torch\n",
    "import torch.nn as nn\n",
    "import torch.optim as optim\n",
    "\n",
    "# 1) Define a simple LSTM classifier\n",
    "class LSTMClassifier(nn.Module):\n",
    "    def __init__(self, input_size, hidden_size, num_layers, num_classes, dropout=0.2):\n",
    "        super().__init__()\n",
    "        self.lstm = nn.LSTM(\n",
    "            input_size=input_size,\n",
    "            hidden_size=hidden_size,\n",
    "            num_layers=num_layers,\n",
    "            batch_first=True,\n",
    "            dropout=dropout if num_layers>1 else 0\n",
    "        )\n",
    "        self.fc = nn.Linear(hidden_size, num_classes)\n",
    "    \n",
    "    def forward(self, x):\n",
    "        # x: [batch, seq_len, features]\n",
    "        _, (h_n, _) = self.lstm(x)\n",
    "        out = h_n[-1]             # take last layer’s hidden state\n",
    "        return self.fc(out)       # [batch, num_classes]\n"
   ]
  },
  {
   "cell_type": "code",
   "execution_count": 214,
   "id": "f280611e-8362-4bb4-9b90-b155aa861607",
   "metadata": {},
   "outputs": [],
   "source": [
    "# 2) Hyperparameters\n",
    "input_size  = 4     # features per time‐step\n",
    "hidden_size = 64\n",
    "num_layers  = 1\n",
    "num_classes = 2     # normal vs anomaly\n",
    "lr          = 1e-3\n",
    "epochs      = 10\n",
    "\n",
    "device = torch.device(\"cuda\" if torch.cuda.is_available() else \"cpu\")\n",
    "model  = LSTMClassifier(input_size, hidden_size, num_layers, num_classes).to(device)\n",
    "criterion = nn.CrossEntropyLoss()\n",
    "optimizer = optim.Adam(model.parameters(), lr=lr)"
   ]
  },
  {
   "cell_type": "code",
   "execution_count": 215,
   "id": "986cac8d-f2fa-4f6c-b1b9-5d848fc783f5",
   "metadata": {},
   "outputs": [],
   "source": [
    "# 3) Training & validation loop\n",
    "for epoch in range(1, epochs+1):\n",
    "    # — Training —\n",
    "    model.train()\n",
    "    train_loss = 0.0\n",
    "    train_correct = 0\n",
    "    train_total = 0\n",
    "    \n",
    "    for X_batch, y_batch in train_loader:\n",
    "        X_batch, y_batch = X_batch.to(device), y_batch.to(device)\n",
    "        optimizer.zero_grad()\n",
    "        outputs = model(X_batch)\n",
    "        loss = criterion(outputs, y_batch)\n",
    "        loss.backward()\n",
    "        optimizer.step()\n",
    "        \n",
    "        train_loss += loss.item() * X_batch.size(0)\n",
    "        preds = outputs.argmax(dim=1)\n",
    "        train_correct += (preds == y_batch).sum().item()\n",
    "        train_total += y_batch.size(0)\n",
    "    \n",
    "    train_loss /= train_total\n",
    "    train_acc = train_correct / train_total"
   ]
  },
  {
   "cell_type": "code",
   "execution_count": 216,
   "id": "590b25ee-d333-4179-a4ec-c584409461ab",
   "metadata": {},
   "outputs": [
    {
     "name": "stdout",
     "output_type": "stream",
     "text": [
      "Epoch 10/10 — Train Loss: 0.0592, Train Acc: 0.9811, Val Acc: 0.9824\n"
     ]
    }
   ],
   "source": [
    " # — Validation —\n",
    "model.eval()\n",
    "val_correct = 0\n",
    "val_total = 0\n",
    "with torch.no_grad():\n",
    "    for X_batch, y_batch in test_loader:\n",
    "            X_batch, y_batch = X_batch.to(device), y_batch.to(device)\n",
    "            outputs = model(X_batch)\n",
    "            preds = outputs.argmax(dim=1)\n",
    "            val_correct += (preds == y_batch).sum().item()\n",
    "            val_total += y_batch.size(0)\n",
    "    val_acc = val_correct / val_total\n",
    "    \n",
    "    print(f\"Epoch {epoch}/{epochs} — \"\n",
    "          f\"Train Loss: {train_loss:.4f}, Train Acc: {train_acc:.4f}, \"\n",
    "          f\"Val Acc: {val_acc:.4f}\")"
   ]
  },
  {
   "cell_type": "code",
   "execution_count": 217,
   "id": "1b0c52f3-4832-4301-8960-b23127fa55b0",
   "metadata": {},
   "outputs": [
    {
     "name": "stdout",
     "output_type": "stream",
     "text": [
      "Looking in links: https://data.pyg.org/whl/torch-2.7.1+cpu.html\n",
      "Requirement already satisfied: torch-scatter in /opt/anaconda3/lib/python3.12/site-packages (2.1.2)\n",
      "Requirement already satisfied: torch-sparse in /opt/anaconda3/lib/python3.12/site-packages (0.6.18)\n",
      "Requirement already satisfied: torch-cluster in /opt/anaconda3/lib/python3.12/site-packages (1.6.3)\n",
      "Requirement already satisfied: torch-spline-conv in /opt/anaconda3/lib/python3.12/site-packages (1.2.2)\n",
      "Requirement already satisfied: torch-geometric in /opt/anaconda3/lib/python3.12/site-packages (2.6.1)\n",
      "Requirement already satisfied: scipy in /opt/anaconda3/lib/python3.12/site-packages (from torch-sparse) (1.13.1)\n",
      "Requirement already satisfied: aiohttp in /opt/anaconda3/lib/python3.12/site-packages (from torch-geometric) (3.9.5)\n",
      "Requirement already satisfied: fsspec in /opt/anaconda3/lib/python3.12/site-packages (from torch-geometric) (2024.3.1)\n",
      "Requirement already satisfied: jinja2 in /opt/anaconda3/lib/python3.12/site-packages (from torch-geometric) (3.1.4)\n",
      "Requirement already satisfied: numpy in /opt/anaconda3/lib/python3.12/site-packages (from torch-geometric) (1.26.4)\n",
      "Requirement already satisfied: psutil>=5.8.0 in /opt/anaconda3/lib/python3.12/site-packages (from torch-geometric) (5.9.0)\n",
      "Requirement already satisfied: pyparsing in /opt/anaconda3/lib/python3.12/site-packages (from torch-geometric) (3.0.9)\n",
      "Requirement already satisfied: requests in /opt/anaconda3/lib/python3.12/site-packages (from torch-geometric) (2.32.2)\n",
      "Requirement already satisfied: tqdm in /opt/anaconda3/lib/python3.12/site-packages (from torch-geometric) (4.66.4)\n",
      "Requirement already satisfied: aiosignal>=1.1.2 in /opt/anaconda3/lib/python3.12/site-packages (from aiohttp->torch-geometric) (1.2.0)\n",
      "Requirement already satisfied: attrs>=17.3.0 in /opt/anaconda3/lib/python3.12/site-packages (from aiohttp->torch-geometric) (23.1.0)\n",
      "Requirement already satisfied: frozenlist>=1.1.1 in /opt/anaconda3/lib/python3.12/site-packages (from aiohttp->torch-geometric) (1.4.0)\n",
      "Requirement already satisfied: multidict<7.0,>=4.5 in /opt/anaconda3/lib/python3.12/site-packages (from aiohttp->torch-geometric) (6.0.4)\n",
      "Requirement already satisfied: yarl<2.0,>=1.0 in /opt/anaconda3/lib/python3.12/site-packages (from aiohttp->torch-geometric) (1.9.3)\n",
      "Requirement already satisfied: MarkupSafe>=2.0 in /opt/anaconda3/lib/python3.12/site-packages (from jinja2->torch-geometric) (2.1.3)\n",
      "Requirement already satisfied: charset-normalizer<4,>=2 in /opt/anaconda3/lib/python3.12/site-packages (from requests->torch-geometric) (2.0.4)\n",
      "Requirement already satisfied: idna<4,>=2.5 in /opt/anaconda3/lib/python3.12/site-packages (from requests->torch-geometric) (3.7)\n",
      "Requirement already satisfied: urllib3<3,>=1.21.1 in /opt/anaconda3/lib/python3.12/site-packages (from requests->torch-geometric) (2.2.2)\n",
      "Requirement already satisfied: certifi>=2017.4.17 in /opt/anaconda3/lib/python3.12/site-packages (from requests->torch-geometric) (2025.4.26)\n"
     ]
    }
   ],
   "source": [
    "# In a notebook cell (note the URL targets your local torch version)\n",
    "!pip install torch-scatter torch-sparse torch-cluster torch-spline-conv torch-geometric \\\n",
    "  -f https://data.pyg.org/whl/torch-$(python -c \"import torch; print(torch.__version__)\")+cpu.html"
   ]
  },
  {
   "cell_type": "markdown",
   "id": "7b216599-ef50-40f3-ae51-b95cf534190b",
   "metadata": {},
   "source": [
    "### Preparing Graph Data and Node Features for the GCN Branch"
   ]
  },
  {
   "cell_type": "code",
   "execution_count": 219,
   "id": "61e89a6d-6715-4b3a-af78-42b8571b6583",
   "metadata": {},
   "outputs": [
    {
     "name": "stdout",
     "output_type": "stream",
     "text": [
      "PyTorch version: 2.7.1\n",
      "torch_geometric data & GCNConv imported successfully\n"
     ]
    }
   ],
   "source": [
    "# 2) Then import the main classes in your Python cell\n",
    "import torch\n",
    "from torch_geometric.data import Data\n",
    "from torch_geometric.nn import GCNConv\n",
    "\n",
    "# Quick check\n",
    "print(\"PyTorch version:\", torch.__version__)\n",
    "print(\"torch_geometric data & GCNConv imported successfully\")"
   ]
  },
  {
   "cell_type": "code",
   "execution_count": 220,
   "id": "6c985dfc-2dad-4d78-bfd8-b7ceedf08a67",
   "metadata": {},
   "outputs": [
    {
     "name": "stdout",
     "output_type": "stream",
     "text": [
      "Fused logits shape: torch.Size([100, 2])\n"
     ]
    }
   ],
   "source": [
    "import itertools\n",
    "# --- 1) Create node features for the GNN from the LSTM hidden states ---\n",
    "\n",
    "# We’ll run each portfolio’s full sequence through the LSTM and grab its last hidden state.\n",
    "# First, collect one long sequence per portfolio:\n",
    "feature_cols = [\"Avg_Return\",\"Rolling_Volatility\",\"Concentration\",\"Num_Assets\"]\n",
    "seq_len = 20\n",
    "\n",
    "# Map portfolio IDs to consecutive node indices 0…99\n",
    "pid2idx = {pid: i for i,pid in enumerate(sorted(portfolios))}\n",
    "\n",
    "# Build a tensor of shape [num_nodes, seq_len, features]\n",
    "node_seqs = torch.zeros(len(portfolios), seq_len, len(feature_cols))\n",
    "for pid, group in portfolio_df.groupby(\"Portfolio\"):\n",
    "    idx = pid2idx[pid]\n",
    "    vals = group[feature_cols].values\n",
    "    # take the last seq_len rows\n",
    "    node_seqs[idx] = torch.tensor(vals[-seq_len:], dtype=torch.float32)\n",
    "\n",
    "# Pass through LSTM to get hidden embeddings\n",
    "model.eval()\n",
    "with torch.no_grad():\n",
    "    # lstm_out shape [nodes, seq_len, hidden_size]; h_n shape [num_layers, nodes, hidden_size]\n",
    "    _, (h_n, _) = model.lstm(node_seqs.to(device))\n",
    "    lstm_embeddings = h_n[-1].cpu()   # [100, hidden_size]\n",
    "\n",
    "# --- 2) Build the portfolio‐graph edge_index based on shared tickers ---\n",
    "\n",
    "edges = []\n",
    "for (p1,a1),(p2,a2) in itertools.combinations(portfolios.items(),2):\n",
    "    if set(a1) & set(a2):  # if they share at least one ticker\n",
    "        i,j = pid2idx[p1], pid2idx[p2]\n",
    "        edges.append((i,j))\n",
    "        edges.append((j,i))\n",
    "\n",
    "edge_index = torch.tensor(edges, dtype=torch.long).t().contiguous()  # [2, E]\n",
    "\n",
    "# --- 3) Wrap into a PyG Data object ---\n",
    "\n",
    "data = Data(\n",
    "    x=lstm_embeddings,   # use LSTM embeddings as initial node features\n",
    "    edge_index=edge_index\n",
    ")\n",
    "\n",
    "# --- 4) Define & run a 2‐layer GCN to get final node representations ---\n",
    "\n",
    "class GCNBranch(nn.Module):\n",
    "    def __init__(self, in_feats, hidden_feats, out_feats, dropout=0.2):\n",
    "        super().__init__()\n",
    "        self.conv1 = GCNConv(in_feats, hidden_feats)\n",
    "        self.conv2 = GCNConv(hidden_feats, out_feats)\n",
    "        self.drop  = dropout\n",
    "\n",
    "    def forward(self, x, edge_index):\n",
    "        x = self.conv1(x, edge_index).relu()\n",
    "        x = nn.functional.dropout(x, p=self.drop, training=self.training)\n",
    "        return self.conv2(x, edge_index)\n",
    "\n",
    "gcn = GCNBranch(\n",
    "    in_feats=lstm_embeddings.size(1),\n",
    "    hidden_feats=32,\n",
    "    out_feats=16\n",
    ").to(device)\n",
    "\n",
    "with torch.no_grad():\n",
    "    gcn_embeddings = gcn(data.x.to(device), data.edge_index.to(device)).cpu()  # [100,16]\n",
    "\n",
    "#  Fuse LSTM + GCN embeddings and classify \n",
    "\n",
    "# Concatenate per‐node features (now [100, hidden_size+16])\n",
    "fusion = torch.cat([lstm_embeddings, gcn_embeddings], dim=1)\n",
    "\n",
    "# Final classifier\n",
    "classifier = nn.Sequential(\n",
    "    nn.Linear(fusion.size(1), 32),\n",
    "    nn.ReLU(),\n",
    "    nn.Dropout(0.2),\n",
    "    nn.Linear(32, 2)\n",
    ").to(device)\n",
    "\n",
    "# Example forward\n",
    "out = classifier(fusion.to(device))  # [100,2] node‐level logits\n",
    "print(\"Fused logits shape:\", out.shape)"
   ]
  },
  {
   "cell_type": "code",
   "execution_count": 221,
   "id": "3e47fdd8-9946-4ccf-8414-1c17c0a94e38",
   "metadata": {},
   "outputs": [
    {
     "name": "stdout",
     "output_type": "stream",
     "text": [
      "fused_logits_np shape: (100, 2)\n"
     ]
    }
   ],
   "source": [
    "# 1) Recompute the fused logits from the classifier\n",
    "classifier.eval()\n",
    "with torch.no_grad():\n",
    "    out_logits = classifier(fusion.to(device))  # torch.Size([100,2])\n",
    "# 2) Move to CPU and convert to NumPy\n",
    "fused_logits_np = out_logits.cpu().numpy()     # shape (100,2)\n",
    "\n",
    "print(\"fused_logits_np shape:\", fused_logits_np.shape)"
   ]
  },
  {
   "cell_type": "code",
   "execution_count": 222,
   "id": "725e6c09-54b9-463e-bf63-8aa39dee5b46",
   "metadata": {},
   "outputs": [],
   "source": [
    "label_series = portfolio_df.groupby(\"Portfolio\")[\"Anomaly\"].max()\n",
    "sorted_pids  = sorted(portfolios)\n",
    "true_labels  = label_series.loc[sorted_pids].values  # shape (100,)\n",
    "\n",
    "# 1) Compute anomaly probabilities\n",
    "exp_logits    = np.exp(fused_logits_np)\n",
    "probs         = exp_logits / exp_logits.sum(axis=1, keepdims=True)\n",
    "anomaly_probs = probs[:, 1]\n",
    "\n"
   ]
  },
  {
   "cell_type": "code",
   "execution_count": 223,
   "id": "f879cfd6-8237-4835-899e-3ce53107adaa",
   "metadata": {},
   "outputs": [
    {
     "name": "stdout",
     "output_type": "stream",
     "text": [
      "Epoch 01 — Loss: 0.6947, Train Acc: 0.090\n",
      "Epoch 02 — Loss: 0.6837, Train Acc: 0.190\n",
      "Epoch 03 — Loss: 0.6935, Train Acc: 0.180\n",
      "Epoch 04 — Loss: 0.6772, Train Acc: 0.220\n",
      "Epoch 05 — Loss: 0.6830, Train Acc: 0.290\n",
      "Epoch 06 — Loss: 0.6885, Train Acc: 0.300\n",
      "Epoch 07 — Loss: 0.6737, Train Acc: 0.360\n",
      "Epoch 08 — Loss: 0.6762, Train Acc: 0.420\n",
      "Epoch 09 — Loss: 0.6801, Train Acc: 0.370\n",
      "Epoch 10 — Loss: 0.6610, Train Acc: 0.440\n",
      "Epoch 11 — Loss: 0.6649, Train Acc: 0.420\n",
      "Epoch 12 — Loss: 0.6761, Train Acc: 0.420\n",
      "Epoch 13 — Loss: 0.6737, Train Acc: 0.430\n",
      "Epoch 14 — Loss: 0.6642, Train Acc: 0.440\n",
      "Epoch 15 — Loss: 0.6606, Train Acc: 0.420\n",
      "Epoch 16 — Loss: 0.6648, Train Acc: 0.490\n",
      "Epoch 17 — Loss: 0.6480, Train Acc: 0.450\n",
      "Epoch 18 — Loss: 0.6618, Train Acc: 0.480\n",
      "Epoch 19 — Loss: 0.6472, Train Acc: 0.530\n",
      "Epoch 20 — Loss: 0.6427, Train Acc: 0.480\n",
      "\n",
      "Classification Report:\n",
      "\n",
      "              precision    recall  f1-score   support\n",
      "\n",
      "      Normal       0.11      1.00      0.19         6\n",
      "     Anomaly       1.00      0.46      0.63        94\n",
      "\n",
      "    accuracy                           0.49       100\n",
      "   macro avg       0.55      0.73      0.41       100\n",
      "weighted avg       0.95      0.49      0.60       100\n",
      "\n"
     ]
    }
   ],
   "source": [
    "import torch.nn as nn\n",
    "import torch.optim as optim\n",
    "\n",
    "# Assume you already have:\n",
    "#   fusion       : torch.Tensor of shape [100, fusion_dim]\n",
    "#   true_labels  : NumPy array or torch.LongTensor of shape [100]\n",
    "#   device       : \"cpu\" or \"cuda\"\n",
    "\n",
    "# 1) Convert true_labels to a torch.LongTensor on the correct device\n",
    "if not isinstance(true_labels, torch.Tensor):\n",
    "    y = torch.tensor(true_labels, dtype=torch.long, device=device)\n",
    "else:\n",
    "    y = true_labels.to(device)\n",
    "\n",
    "# 2) Define the fusion‐classifier (fresh weights)\n",
    "classifier = nn.Sequential(\n",
    "    nn.Linear(fusion.size(1), 32),\n",
    "    nn.ReLU(),\n",
    "    nn.Dropout(0.2),\n",
    "    nn.Linear(32, 2)\n",
    ").to(device)\n",
    "\n",
    "# 3) Build class‐imbalance weights as float32\n",
    "num_norm = (y == 0).sum().item()\n",
    "num_anom = (y == 1).sum().item()\n",
    "w0, w1   = 1.0, num_norm / max(num_anom, 1)\n",
    "weight   = torch.tensor([w0, w1], dtype=torch.float32, device=device)\n",
    "\n",
    "# 4) Loss & optimizer\n",
    "criterion = nn.CrossEntropyLoss(weight=weight)\n",
    "optimizer = optim.Adam(classifier.parameters(), lr=1e-3)\n",
    "\n",
    "# 5) Train the classifier on the 100 fused embeddings\n",
    "classifier.train()\n",
    "for epoch in range(1, 21):\n",
    "    optimizer.zero_grad()\n",
    "    logits = classifier(fusion.to(device))   # [100,2]\n",
    "    loss   = criterion(logits, y)            # now weight is float32\n",
    "    loss.backward()\n",
    "    optimizer.step()\n",
    "\n",
    "    with torch.no_grad():\n",
    "        preds = logits.argmax(dim=1)\n",
    "        acc   = (preds == y).float().mean().item()\n",
    "    print(f\"Epoch {epoch:02d} — Loss: {loss.item():.4f}, Train Acc: {acc:.3f}\")\n",
    "\n",
    "# 6) Final evaluation\n",
    "classifier.eval()\n",
    "with torch.no_grad():\n",
    "    logits = classifier(fusion.to(device))\n",
    "    probs  = torch.softmax(logits, dim=1)[:, 1]\n",
    "    preds  = (probs > 0.5).long().cpu().numpy()\n",
    "\n",
    "from sklearn.metrics import classification_report\n",
    "print(\"\\nClassification Report:\\n\")\n",
    "print(classification_report(\n",
    "    true_labels, preds,\n",
    "    target_names=[\"Normal\",\"Anomaly\"],\n",
    "    zero_division=0\n",
    "))"
   ]
  },
  {
   "cell_type": "markdown",
   "id": "82727fa7-93db-42c5-877e-8a209512de48",
   "metadata": {},
   "source": [
    "### Aggregating Portfolio‐Level Features and Training the XGBoost Baseline"
   ]
  },
  {
   "cell_type": "code",
   "execution_count": 225,
   "id": "aa93dc58-cc34-4d2c-967c-de54b64b6f5c",
   "metadata": {},
   "outputs": [
    {
     "name": "stdout",
     "output_type": "stream",
     "text": [
      "XGBoost Baseline:\n",
      "               precision    recall  f1-score   support\n",
      "\n",
      "      Normal       0.00      0.00      0.00         1\n",
      "     Anomaly       0.95      1.00      0.97        19\n",
      "\n",
      "    accuracy                           0.95        20\n",
      "   macro avg       0.47      0.50      0.49        20\n",
      "weighted avg       0.90      0.95      0.93        20\n",
      "\n"
     ]
    },
    {
     "name": "stderr",
     "output_type": "stream",
     "text": [
      "/opt/anaconda3/lib/python3.12/site-packages/xgboost/training.py:183: UserWarning: [13:11:43] WARNING: /Users/runner/work/xgboost/xgboost/src/learner.cc:738: \n",
      "Parameters: { \"use_label_encoder\" } are not used.\n",
      "\n",
      "  bst.update(dtrain, iteration=i, fobj=obj)\n",
      "/opt/anaconda3/lib/python3.12/site-packages/sklearn/metrics/_classification.py:1509: UndefinedMetricWarning: Precision is ill-defined and being set to 0.0 in labels with no predicted samples. Use `zero_division` parameter to control this behavior.\n",
      "  _warn_prf(average, modifier, f\"{metric.capitalize()} is\", len(result))\n",
      "/opt/anaconda3/lib/python3.12/site-packages/sklearn/metrics/_classification.py:1509: UndefinedMetricWarning: Precision is ill-defined and being set to 0.0 in labels with no predicted samples. Use `zero_division` parameter to control this behavior.\n",
      "  _warn_prf(average, modifier, f\"{metric.capitalize()} is\", len(result))\n",
      "/opt/anaconda3/lib/python3.12/site-packages/sklearn/metrics/_classification.py:1509: UndefinedMetricWarning: Precision is ill-defined and being set to 0.0 in labels with no predicted samples. Use `zero_division` parameter to control this behavior.\n",
      "  _warn_prf(average, modifier, f\"{metric.capitalize()} is\", len(result))\n"
     ]
    }
   ],
   "source": [
    "from xgboost import XGBClassifier\n",
    "from sklearn.metrics import classification_report\n",
    "\n",
    "# Prepare per-portfolio aggregated features (same as before)\n",
    "agg = portfolio_df.groupby(\"Portfolio\").agg({\n",
    "    'Avg_Return': ['mean','std'],\n",
    "    'Rolling_Volatility': ['mean','std'],\n",
    "    'Concentration': ['mean','std'],\n",
    "    'Num_Assets': 'mean'\n",
    "})\n",
    "agg.columns = ['_'.join(c) for c in agg.columns]\n",
    "pids = sorted(portfolios)\n",
    "X = agg.loc[pids].values\n",
    "y = pd.Series(portfolio_df.groupby(\"Portfolio\")[\"Anomaly\"].max(), index=pids).values\n",
    "\n",
    "# Fixed train/test split\n",
    "np.random.seed(42)\n",
    "idx = np.arange(len(pids))\n",
    "np.random.shuffle(idx)\n",
    "split = int(0.8 * len(idx))\n",
    "train_idx, test_idx = idx[:split], idx[split:]\n",
    "X_train, X_test = X[train_idx], X[test_idx]\n",
    "y_train, y_test = y[train_idx], y[test_idx]\n",
    "\n",
    "# Train XGBoost\n",
    "xgb = XGBClassifier(use_label_encoder=False, eval_metric='logloss', random_state=42)\n",
    "xgb.fit(X_train, y_train)\n",
    "\n",
    "# Evaluate\n",
    "y_pred = xgb.predict(X_test)\n",
    "print(\"XGBoost Baseline:\\n\", classification_report(y_test, y_pred, target_names=[\"Normal\",\"Anomaly\"]))"
   ]
  },
  {
   "cell_type": "markdown",
   "id": "3b619e3d-367e-447d-8863-efdb7c11614d",
   "metadata": {},
   "source": [
    "### Plotting the ROC Curve and Selecting Youden’s J Optimal Threshold"
   ]
  },
  {
   "cell_type": "code",
   "execution_count": 227,
   "id": "ad39b318-5b0f-4e5a-bfa6-4fce762f42ee",
   "metadata": {},
   "outputs": [
    {
     "data": {
      "image/png": "[encoded data removed]",
      "text/plain": [
       "<Figure size 640x480 with 1 Axes>"
      ]
     },
     "metadata": {},
     "output_type": "display_data"
    },
    {
     "data": {
      "image/png": "[encoded data removed]",
      "text/plain": [
       "<Figure size 640x480 with 1 Axes>"
      ]
     },
     "metadata": {},
     "output_type": "display_data"
    },
    {
     "name": "stdout",
     "output_type": "stream",
     "text": [
      "Chosen optimal threshold = 0.502\n"
     ]
    }
   ],
   "source": [
    "from sklearn.metrics import (\n",
    "    roc_curve, auc,\n",
    "    precision_recall_curve, average_precision_score\n",
    ")\n",
    "\n",
    "# 1) Compute anomaly probabilities\n",
    "exp_logits    = np.exp(fused_logits_np)\n",
    "probs         = exp_logits / exp_logits.sum(axis=1, keepdims=True)\n",
    "anomaly_probs = probs[:,1]\n",
    "\n",
    "# 2) ROC‐AUC & Youden’s J\n",
    "fpr, tpr, roc_th = roc_curve(true_labels, anomaly_probs)\n",
    "roc_auc = auc(fpr, tpr)\n",
    "youden  = tpr - fpr\n",
    "best_idx = np.argmax(youden)\n",
    "best_thr = roc_th[best_idx]\n",
    "\n",
    "plt.figure()\n",
    "plt.plot(fpr, tpr, label=f\"AUC = {roc_auc:.2f}\")\n",
    "plt.plot([0,1], [0,1], '--', color='gray')\n",
    "plt.scatter(fpr[best_idx], tpr[best_idx], color='red',\n",
    "            label=f\"Youden’s J bestthr={best_thr:.2f}\")\n",
    "plt.xlabel(\"False Positive Rate\")\n",
    "plt.ylabel(\"True Positive Rate\")\n",
    "plt.title(\"ROC Curve – Hybrid Model\")\n",
    "plt.legend()\n",
    "plt.show()\n",
    "\n",
    "# 3) Precision–Recall & Average Precision\n",
    "precision, recall, pr_th = precision_recall_curve(true_labels, anomaly_probs)\n",
    "ap = average_precision_score(true_labels, anomaly_probs)\n",
    "\n",
    "plt.figure()\n",
    "plt.plot(recall, precision, label=f\"AP = {ap:.2f}\")\n",
    "# mark threshold closest to best_thr\n",
    "closest = np.argmin(np.abs(pr_th - best_thr))\n",
    "plt.scatter(recall[closest], precision[closest], color='red',\n",
    "            label=f\"thr={best_thr:.2f}\")\n",
    "plt.xlabel(\"Recall\")\n",
    "plt.ylabel(\"Precision\")\n",
    "plt.title(\"Precision–Recall Curve – Hybrid Model\")\n",
    "plt.legend()\n",
    "plt.show()\n",
    "\n",
    "print(f\"Chosen optimal threshold = {best_thr:.3f}\")"
   ]
  },
  {
   "cell_type": "code",
   "execution_count": 228,
   "id": "117a0786-f3db-4dc2-8f68-33e7f6401061",
   "metadata": {},
   "outputs": [
    {
     "name": "stdout",
     "output_type": "stream",
     "text": [
      "Isolation Forest Baseline:\n",
      "               precision    recall  f1-score   support\n",
      "\n",
      "      Normal       0.07      1.00      0.12         1\n",
      "     Anomaly       1.00      0.26      0.42        19\n",
      "\n",
      "    accuracy                           0.30        20\n",
      "   macro avg       0.53      0.63      0.27        20\n",
      "weighted avg       0.95      0.30      0.40        20\n",
      "\n"
     ]
    }
   ],
   "source": [
    "from sklearn.ensemble import IsolationForest\n",
    "from sklearn.metrics import classification_report\n",
    "\n",
    "# 1) Use the same per‐portfolio aggregate features\n",
    "X = agg.loc[pids].values  # shape [100,7] from earlier\n",
    "y = true_labels           # shape [100,]\n",
    "\n",
    "# 2) Fit an Isolation Forest on the train split only\n",
    "iso = IsolationForest(contamination=0.09, random_state=42)\n",
    "iso.fit(X[train_idx])\n",
    "\n",
    "# 3) Get anomaly scores / predictions on test split\n",
    "#    predict() returns 1 for normal, -1 for anomaly\n",
    "iso_pred = iso.predict(X[test_idx])\n",
    "iso_pred = np.where(iso_pred == -1, 1, 0)  # convert to 0/1\n",
    "\n",
    "# 4) Evaluate\n",
    "print(\"Isolation Forest Baseline:\\n\",\n",
    "      classification_report(y[test_idx], iso_pred,\n",
    "                            target_names=[\"Normal\",\"Anomaly\"],\n",
    "                            zero_division=0))"
   ]
  },
  {
   "cell_type": "code",
   "execution_count": 229,
   "id": "3cea8501-ace9-4708-b952-654745d4e772",
   "metadata": {},
   "outputs": [
    {
     "name": "stdout",
     "output_type": "stream",
     "text": [
      "              Accuracy  Precision    Recall        F1\n",
      "XGBoost           0.95       0.95  1.000000  0.974359\n",
      "Hybrid @0.50      0.60       1.00  0.578947  0.733333\n",
      "Isolation         0.30       1.00  0.263158  0.416667\n"
     ]
    }
   ],
   "source": [
    "import pandas as pd\n",
    "from sklearn.metrics import accuracy_score, precision_score, recall_score, f1_score\n",
    "\n",
    "# 1) Define a helper\n",
    "def compute_metrics(y_true, y_pred):\n",
    "    return {\n",
    "        \"Accuracy\" : accuracy_score(y_true, y_pred),\n",
    "        \"Precision\": precision_score(y_true, y_pred, zero_division=0),\n",
    "        \"Recall\"   : recall_score(y_true, y_pred, zero_division=0),\n",
    "        \"F1\"       : f1_score(y_true, y_pred, zero_division=0),\n",
    "    }\n",
    "\n",
    "# 2) XGBoost baseline metrics\n",
    "#    you ran: y_pred = xgb.predict(X_test)\n",
    "xgb_metrics = compute_metrics(y_test, y_pred)\n",
    "\n",
    "# Let’s store those in clearly named variables for the summary:\n",
    "hybrid_preds_full = preds                # full 100-long array\n",
    "hybrid_preds      = preds[test_idx]      # only on test portfolios\n",
    "\n",
    "# Now you can compute metrics exactly as for XGBoost and Isolation Forest:\n",
    "hybrid_at_50_metrics = compute_metrics(y_test, hybrid_preds)\n",
    "\n",
    "\n",
    "# 4) Isolation Forest metrics\n",
    "#    iso_pred is already 0/1 on X_test\n",
    "iso_metrics = compute_metrics(y_test, iso_pred)\n",
    "\n",
    "# 5) Assemble into a DataFrame\n",
    "results = {\n",
    "    \"XGBoost\":      xgb_metrics,\n",
    "    \"Hybrid @0.50\": hybrid_at_50_metrics,\n",
    "    \"Isolation\":    iso_metrics\n",
    "}\n",
    "\n",
    "df_summary = pd.DataFrame(results).T\n",
    "print(df_summary)"
   ]
  },
  {
   "cell_type": "code",
   "execution_count": 230,
   "id": "ffbb35f6-0947-488e-b92b-e4d4e54bd13a",
   "metadata": {},
   "outputs": [
    {
     "name": "stdout",
     "output_type": "stream",
     "text": [
      "Hybrid @0.35 → {'Accuracy': 0.95, 'Precision': 0.95, 'Recall': 1.0, 'F1': 0.9743589743589743}\n"
     ]
    }
   ],
   "source": [
    "new_thr = 0.35   # example lower than 0.49\n",
    "hybrid_new_preds_full = (anomaly_probs > new_thr).astype(int)\n",
    "hybrid_new_preds = hybrid_new_preds_full[test_idx]\n",
    "new_metrics = compute_metrics(y_test, hybrid_new_preds)\n",
    "print(\"Hybrid @0.35 →\", new_metrics)"
   ]
  },
  {
   "cell_type": "code",
   "execution_count": 231,
   "id": "61567db9-e692-4ccf-bbef-967d1af6a6d5",
   "metadata": {},
   "outputs": [
    {
     "data": {
      "image/png": "[encoded data removed]",
      "text/plain": [
       "<Figure size 1500x400 with 6 Axes>"
      ]
     },
     "metadata": {},
     "output_type": "display_data"
    }
   ],
   "source": [
    "import matplotlib.pyplot as plt\n",
    "import seaborn as sns\n",
    "from sklearn.metrics import confusion_matrix, accuracy_score\n",
    "\n",
    "# 1) Define your fixed hybrid threshold\n",
    "new_thr = 0.35\n",
    "hybrid_thresh_preds_full = (anomaly_probs > new_thr).astype(int)\n",
    "\n",
    "# 3) Extract only the test‐set predictions\n",
    "#    test_idx: array of indices for your test portfolios\n",
    "hybrid_test_preds = hybrid_thresh_preds_full[test_idx]\n",
    "xgb_test_preds    = xgb_preds_full[test_idx]\n",
    "iso_test_preds    = iso_preds_full[test_idx]\n",
    "\n",
    "# 4) Prepare the dict of model → test preds\n",
    "model_preds = {\n",
    "    f\"Hybrid @ {new_thr:.2f}\": hybrid_test_preds,\n",
    "    \"XGBoost\":                xgb_test_preds,\n",
    "    \"Isolation Forest\":       iso_test_preds\n",
    "}\n",
    "fig, axes = plt.subplots(1, 3, figsize=(15, 4), sharey=True)\n",
    "\n",
    "for ax, (name, preds) in zip(axes, model_preds.items()):\n",
    "    cm = confusion_matrix(y_test, preds, labels=[0, 1])\n",
    "    sns.heatmap(\n",
    "        cm,\n",
    "        annot=True,\n",
    "        fmt=\"d\",\n",
    "        cmap=\"Blues\",\n",
    "        xticklabels=[\"Normal\",\"Anomaly\"],\n",
    "        yticklabels=[\"Normal\",\"Anomaly\"],\n",
    "        ax=ax\n",
    "    )\n",
    "    acc = accuracy_score(y_test, preds)\n",
    "    ax.set_title(f\"{name}\\nAccuracy={acc:.2f}\")\n",
    "    ax.set_xlabel(\"Predicted\")\n",
    "    ax.set_ylabel(\"Actual\")\n",
    "plt.tight_layout()\n",
    "plt.show()"
   ]
  },
  {
   "cell_type": "markdown",
   "id": "344ad243-7e4e-4ed1-8fec-b6ee5564f9fc",
   "metadata": {},
   "source": [
    "### Identifying Portfolios Flagged Only by the Hybrid Model Compared to Baselines"
   ]
  },
  {
   "cell_type": "code",
   "execution_count": 241,
   "id": "f7a876cc-2c51-4082-94fe-e70722fcd822",
   "metadata": {},
   "outputs": [
    {
     "name": "stdout",
     "output_type": "stream",
     "text": [
      "Portfolios flagged by hybrid @0.35 but missed by XGBoost:\n",
      "['P52', 'P56', 'P70', 'P79', 'P83', 'P86', 'P95']\n",
      "\n",
      "Portfolios flagged by hybrid @0.35 but missed by Isolation Forest:\n",
      "['P1', 'P10', 'P100', 'P11', 'P12', 'P13', 'P14', 'P15', 'P16', 'P17', 'P18', 'P19', 'P2', 'P20', 'P21', 'P22', 'P23', 'P24', 'P25', 'P26', 'P27', 'P29', 'P3', 'P30', 'P31', 'P32', 'P35', 'P36', 'P37', 'P38', 'P39', 'P4', 'P40', 'P41', 'P42', 'P43', 'P45', 'P46', 'P47', 'P48', 'P49', 'P5', 'P50', 'P51', 'P52', 'P54', 'P55', 'P56', 'P57', 'P58', 'P59', 'P6', 'P60', 'P61', 'P62', 'P63', 'P64', 'P65', 'P66', 'P68', 'P69', 'P7', 'P70', 'P72', 'P73', 'P74', 'P75', 'P76', 'P77', 'P78', 'P8', 'P80', 'P81', 'P82', 'P83', 'P84', 'P85', 'P87', 'P88', 'P89', 'P9', 'P90', 'P91', 'P92', 'P93', 'P94', 'P95', 'P96', 'P97', 'P98', 'P99']\n"
     ]
    }
   ],
   "source": [
    "\n",
    "mask_xgb = [i for i in range(100)\n",
    "            if hybrid_new_preds_full[i] == 1 and xgb_preds_full[i] == 0]\n",
    "mask_iso = [i for i in range(100)\n",
    "            if hybrid_new_preds_full[i] == 1 and iso_preds_full[i] == 0]\n",
    "\n",
    "hybrid_only_vs_xgb = [ sorted_pids[i] for i in mask_xgb ]\n",
    "hybrid_only_vs_iso = [ sorted_pids[i] for i in mask_iso ]\n",
    "\n",
    "print(\"Portfolios flagged by hybrid @0.35 but missed by XGBoost:\")\n",
    "print(hybrid_only_vs_xgb)\n",
    "print(\"\\nPortfolios flagged by hybrid @0.35 but missed by Isolation Forest:\")\n",
    "print(hybrid_only_vs_iso)"
   ]
  },
  {
   "cell_type": "markdown",
   "id": "dc54493b-9671-48d1-a253-4da4355eaecd",
   "metadata": {},
   "source": [
    "### Case Study: Plotting Daily Feature Trends for Selected Portfolios"
   ]
  },
  {
   "cell_type": "code",
   "execution_count": 243,
   "id": "ef38ad6a-3eaa-486e-a86b-f37f16192d59",
   "metadata": {},
   "outputs": [],
   "source": [
    "case_ids = ['P73','P82']"
   ]
  },
  {
   "cell_type": "code",
   "execution_count": 244,
   "id": "3c2fcebe-aac2-4a57-8aeb-b7e1ab8d6f2b",
   "metadata": {},
   "outputs": [
    {
     "data": {
      "image/png": "[encoded data removed]",
      "text/plain": [
       "<Figure size 800x400 with 2 Axes>"
      ]
     },
     "metadata": {},
     "output_type": "display_data"
    },
    {
     "data": {
      "image/png": "[encoded data removed]",
      "text/plain": [
       "<Figure size 800x400 with 2 Axes>"
      ]
     },
     "metadata": {},
     "output_type": "display_data"
    }
   ],
   "source": [
    "import matplotlib.pyplot as plt\n",
    "\n",
    "for pid in case_ids:\n",
    "    df_p = portfolio_df[portfolio_df['Portfolio']==pid]\n",
    "    fig, ax = plt.subplots(2,1, figsize=(8,4), sharex=True)\n",
    "    ax[0].plot(df_p['Date'], df_p['Avg_Return'], label='Avg_Return')\n",
    "    ax[1].plot(df_p['Date'], df_p['Rolling_Volatility'], label='Rolling_Volatility', color='orange')\n",
    "    ax[0].set_title(f\"Features for {pid}\")\n",
    "    ax[1].set_xlabel(\"Date\")\n",
    "    ax[0].legend(); ax[1].legend()\n",
    "    plt.tight_layout()\n",
    "    plt.show()"
   ]
  },
  {
   "cell_type": "markdown",
   "id": "c08fa7a5-0211-4837-a37a-f59a2afc6995",
   "metadata": {},
   "source": [
    "### Ranking Hybrid‐Only Portfolios by Confidence Gap to Select Case Studies"
   ]
  },
  {
   "cell_type": "code",
   "execution_count": 246,
   "id": "e2dbb8f2-f4b7-4e0e-a062-f00143fa804b",
   "metadata": {},
   "outputs": [
    {
     "name": "stdout",
     "output_type": "stream",
     "text": [
      "   Portfolio  HybridProb   XGBProb       Gap\n",
      "68       P70    0.502559  0.800708 -0.298149\n",
      "85       P86    0.496074  0.899217 -0.403143\n",
      "48       P52    0.507816  0.996152 -0.488336\n",
      "95       P95    0.497801  0.990020 -0.492219\n",
      "82       P83    0.499762  0.994261 -0.494499\n"
     ]
    }
   ],
   "source": [
    "\n",
    "# 1) Compute all anomaly probabilities from the hybrid\n",
    "exp_logits    = np.exp(fused_logits_np)\n",
    "probs         = exp_logits / exp_logits.sum(axis=1, keepdims=True)\n",
    "hybrid_probs  = probs[:,1]    # p_hybrid(anomaly)\n",
    "\n",
    "# 2) Get XGBoost’s anomaly probabilities\n",
    "xgb_probs     = xgb.predict_proba(X)[:,1]  # shape [100,]\n",
    "\n",
    "# 3) Build a DataFrame for the hybrid-only vs XGB\n",
    "df = pd.DataFrame({\n",
    "    \"Portfolio\": sorted_pids,\n",
    "    \"HybridProb\": hybrid_probs,\n",
    "    \"XGBProb\":    xgb_probs,\n",
    "})\n",
    "mask = df[\"Portfolio\"].isin(hybrid_only_vs_xgb)\n",
    "df_hybrid_only = df[mask].copy()\n",
    "\n",
    "# 4) Compute the confidence gap\n",
    "df_hybrid_only[\"Gap\"] = df_hybrid_only[\"HybridProb\"] - df_hybrid_only[\"XGBProb\"]\n",
    "\n",
    "# 5) Sort descending by Gap (or by HybridProb)\n",
    "df_hybrid_only = df_hybrid_only.sort_values(\n",
    "    by=[\"Gap\",\"HybridProb\"], ascending=False\n",
    ")\n",
    "\n",
    "# 6) Show the top 5 as your most interesting case studies\n",
    "top_cases = df_hybrid_only.head(5)\n",
    "print(top_cases[[\"Portfolio\",\"HybridProb\",\"XGBProb\",\"Gap\"]])"
   ]
  },
  {
   "cell_type": "code",
   "execution_count": 247,
   "id": "5d62dc45-5f9a-403c-8562-0276775cf808",
   "metadata": {},
   "outputs": [
    {
     "name": "stdout",
     "output_type": "stream",
     "text": [
      "Performance Comparison of Hybrid, XGBoost and Isolation Forest on the Test Portfolios\n",
      "\n",
      "| Model            |   Accuracy |   Precision |    Recall |   F1 Score |\n",
      "|:-----------------|-----------:|------------:|----------:|-----------:|\n",
      "| Hybrid @0.35     |       0.95 |    0.95     | 1         |   0.974359 |\n",
      "| XGBoost          |       0.85 |    0.944444 | 0.894737  |   0.918919 |\n",
      "| Isolation Forest |       0.1  |    1        | 0.0526316 |   0.1      |\n"
     ]
    }
   ],
   "source": [
    "\n",
    "from sklearn.metrics import accuracy_score, precision_score, recall_score, f1_score\n",
    "\n",
    "# Replace these with your actual arrays for the test split:\n",
    "# y_test               – true labels for test portfolios (shape [n_test,])\n",
    "# hybrid_test_preds    – hybrid model’s 0/1 predictions at threshold 0.35\n",
    "# xgb_test_preds       – XGBoost 0/1 predictions on the same test set\n",
    "# iso_test_preds       – Isolation Forest 0/1 predictions on the same test set\n",
    "\n",
    "model_preds = {\n",
    "    'Hybrid @0.35':       hybrid_test_preds,\n",
    "    'XGBoost':            xgb_test_preds,\n",
    "    'Isolation Forest':   iso_test_preds\n",
    "}\n",
    "\n",
    "# Compute metrics for each model\n",
    "rows = []\n",
    "for name, preds in model_preds.items():\n",
    "    rows.append({\n",
    "        'Model':     name,\n",
    "        'Accuracy':  accuracy_score(y_test, preds),\n",
    "        'Precision': precision_score(y_test, preds, zero_division=0),\n",
    "        'Recall':    recall_score(y_test, preds, zero_division=0),\n",
    "        'F1 Score':  f1_score(y_test, preds, zero_division=0),\n",
    "    })\n",
    "\n",
    "# Create a DataFrame and display\n",
    "df_metrics = pd.DataFrame(rows)\n",
    "df_metrics = df_metrics.set_index('Model')\n",
    "\n",
    "print(\"Performance Comparison of Hybrid, XGBoost and Isolation Forest on the Test Portfolios\\n\")\n",
    "print(df_metrics.to_markdown())"
   ]
  },
  {
   "cell_type": "code",
   "execution_count": 248,
   "id": "ffd13db0-ea24-4dc1-9c6d-767d344bc371",
   "metadata": {},
   "outputs": [
    {
     "data": {
      "image/png": "[encoded data removed]",
      "text/plain": [
       "<Figure size 800x500 with 1 Axes>"
      ]
     },
     "metadata": {},
     "output_type": "display_data"
    }
   ],
   "source": [
    "import matplotlib.pyplot as plt\n",
    "from sklearn.metrics import precision_score, recall_score, f1_score\n",
    "\n",
    "# Assume `anomaly_probs` is your array of shape (n_portfolios,)\n",
    "# and `true_labels` is the corresponding binary ground‐truth array.\n",
    "\n",
    "# 1) Define a grid of candidate thresholds\n",
    "thresholds = np.linspace(0.0, 1.0, 101)\n",
    "\n",
    "# Compute precision, recall, and F1 at each threshold\n",
    "precisions = []\n",
    "recalls    = []\n",
    "f1s        = []\n",
    "\n",
    "for thr in thresholds:\n",
    "    preds = (anomaly_probs > thr).astype(int)\n",
    "    precisions.append(precision_score(true_labels, preds, zero_division=0))\n",
    "    recalls.append   (recall_score   (true_labels, preds, zero_division=0))\n",
    "    f1s.append       (f1_score       (true_labels, preds, zero_division=0))\n",
    "\n",
    "# 3) Plot the curves\n",
    "plt.figure(figsize=(8, 5))\n",
    "plt.plot(thresholds, precisions, label=\"Precision\", linewidth=2)\n",
    "plt.plot(thresholds, recalls,    label=\"Recall\",    linewidth=2)\n",
    "plt.plot(thresholds, f1s,        label=\"F1 Score\",   linewidth=2)\n",
    "\n",
    "# 4) Highlight the chosen thresholds\n",
    "plt.axvline(0.35, color=\"gray\", linestyle=\"--\", label=\"Chosen thr = 0.35\")\n",
    "plt.axvline(0.50, color=\"black\", linestyle=\":\",  label=\"Default thr = 0.50\")\n",
    "\n",
    "plt.xlabel(\"Probability Threshold\")\n",
    "plt.ylabel(\"Metric Value\")\n",
    "plt.title(\"Threshold Sensitivity for Hybrid Model\")\n",
    "plt.legend(loc=\"best\")\n",
    "plt.grid(alpha=0.3)\n",
    "plt.tight_layout()\n",
    "plt.show()"
   ]
  },
  {
   "cell_type": "code",
   "execution_count": null,
   "id": "336f089c-418c-4899-89ab-3c967e8ee063",
   "metadata": {},
   "outputs": [],
   "source": []
  }
 ],
 "metadata": {
  "kernelspec": {
   "display_name": "Python 3 (ipykernel)",
   "language": "python",
   "name": "python3"
  },
  "language_info": {
   "codemirror_mode": {
    "name": "ipython",
    "version": 3
   },
   "file_extension": ".py",
   "mimetype": "text/x-python",
   "name": "python",
   "nbconvert_exporter": "python",
   "pygments_lexer": "ipython3",
   "version": "3.12.4"
  }
 },
 "nbformat": 4,
 "nbformat_minor": 5
}
